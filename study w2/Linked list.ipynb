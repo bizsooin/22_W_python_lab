{
 "cells": [
  {
   "cell_type": "code",
   "execution_count": 1,
   "id": "dc77d736",
   "metadata": {},
   "outputs": [],
   "source": [
    "class LinkedNode():\n",
    "    def __init__(self, x):\n",
    "        self.val = x\n",
    "        self.next = None"
   ]
  },
  {
   "cell_type": "code",
   "execution_count": 2,
   "id": "c8b712c1",
   "metadata": {},
   "outputs": [
    {
     "data": {
      "text/plain": [
       "5"
      ]
     },
     "execution_count": 2,
     "metadata": {},
     "output_type": "execute_result"
    }
   ],
   "source": [
    "a = LinkedNode(5)\n",
    "\n",
    "a.val"
   ]
  },
  {
   "cell_type": "code",
   "execution_count": 3,
   "id": "248e7fb0",
   "metadata": {},
   "outputs": [
    {
     "data": {
      "text/plain": [
       "7"
      ]
     },
     "execution_count": 3,
     "metadata": {},
     "output_type": "execute_result"
    }
   ],
   "source": [
    "b = LinkedNode(7)\n",
    "\n",
    "b.val"
   ]
  },
  {
   "cell_type": "code",
   "execution_count": 4,
   "id": "da5cb2bf",
   "metadata": {},
   "outputs": [
    {
     "data": {
      "text/plain": [
       "7"
      ]
     },
     "execution_count": 4,
     "metadata": {},
     "output_type": "execute_result"
    }
   ],
   "source": [
    "a.next = b\n",
    "\n",
    "a.next.val"
   ]
  },
  {
   "cell_type": "code",
   "execution_count": 28,
   "id": "66b111d9",
   "metadata": {},
   "outputs": [],
   "source": [
    "class SLList:\n",
    "    def __init__(self):\n",
    "        self.first = None\n",
    "        self.size = 0\n",
    "    \n",
    "    def addFirst(self, x : int) -> None:\n",
    "        newFirst = LinkedNode(x)\n",
    "        newFirst.next = self.first #기존의 First가 뒤로 밀림\n",
    "        self.first = newFirst\n",
    "        self.size +=1 \n",
    "    \n",
    "    \n",
    "    def getFirst(self) -> int:\n",
    "        if self.first:\n",
    "            return self.first.val\n",
    "    \n",
    "        return None\n",
    "    '''\n",
    "    def getSize(self) -> int:\n",
    "        curNode = self.first\n",
    "        size = 0\n",
    "        while curNode != None:\n",
    "            size += 1\n",
    "            curNode = curNode.next\n",
    "        \n",
    "        return size\n",
    "    '''\n",
    "    def getSize(self) -> int:\n",
    "        return self.size\n",
    "\n",
    "    def append(self, x : int) -> None:\n",
    "        self.size += 1\n",
    "        \n",
    "        if not self.first:\n",
    "            self.first = LinkedNode(x)\n",
    "        \n",
    "        else:\n",
    "            \n",
    "            curNode = self.first\n",
    "            while(curNode.next != None):\n",
    "                curNode = curNode.next\n",
    "        \n",
    "            curNode.next = LinkedNode(x)"
   ]
  },
  {
   "cell_type": "code",
   "execution_count": 29,
   "id": "2debfd04",
   "metadata": {},
   "outputs": [],
   "source": [
    "L = SLList()\n",
    "L.append(10)\n",
    "L.addFirst(5)"
   ]
  },
  {
   "cell_type": "code",
   "execution_count": 30,
   "id": "f74b684f",
   "metadata": {},
   "outputs": [
    {
     "data": {
      "text/plain": [
       "5"
      ]
     },
     "execution_count": 30,
     "metadata": {},
     "output_type": "execute_result"
    }
   ],
   "source": [
    "L.getFirst()"
   ]
  },
  {
   "cell_type": "code",
   "execution_count": 14,
   "id": "a17061d3",
   "metadata": {},
   "outputs": [
    {
     "data": {
      "text/plain": [
       "2"
      ]
     },
     "execution_count": 14,
     "metadata": {},
     "output_type": "execute_result"
    }
   ],
   "source": [
    "L.getSize()"
   ]
  },
  {
   "cell_type": "code",
   "execution_count": 15,
   "id": "6aab8e18",
   "metadata": {},
   "outputs": [
    {
     "data": {
      "text/plain": [
       "3"
      ]
     },
     "execution_count": 15,
     "metadata": {},
     "output_type": "execute_result"
    }
   ],
   "source": [
    "L.addFirst(0)\n",
    "\n",
    "L.getSize()"
   ]
  },
  {
   "cell_type": "code",
   "execution_count": 33,
   "id": "8b5b607d",
   "metadata": {},
   "outputs": [],
   "source": [
    "class SLList_sen:\n",
    "    def __init__(self):\n",
    "        self.sentinal = LinkedNode(-100)\n",
    "        self.size = 0\n",
    "    \n",
    "    def addFirst(self, x : int) -> None:\n",
    "        newFirst = LinkedNode(x)\n",
    "        newFirst.next = self.sentinal.next #기존의 First가 뒤로 밀림\n",
    "        self.sentinal.next = newFirst\n",
    "        self.size +=1 \n",
    "    \n",
    "    \n",
    "    def getFirst(self) -> int:\n",
    "        if self.sentinal.next:\n",
    "            return self.sentinal.next.val\n",
    "    \n",
    "        return None\n",
    "\n",
    "    def getSize(self) -> int:\n",
    "        return self.size\n",
    "    \n",
    "    \n",
    "    def append(self, x: int) -> None:\n",
    "        self.size +=1 \n",
    "        curNode = self.sentinal\n",
    "        \n",
    "        while curNode.next != None:\n",
    "            curNode = curNode.next\n",
    "        \n",
    "        curNode.next = LinkedNode(x)"
   ]
  }
 ],
 "metadata": {
  "kernelspec": {
   "display_name": "Python 3 (ipykernel)",
   "language": "python",
   "name": "python3"
  },
  "language_info": {
   "codemirror_mode": {
    "name": "ipython",
    "version": 3
   },
   "file_extension": ".py",
   "mimetype": "text/x-python",
   "name": "python",
   "nbconvert_exporter": "python",
   "pygments_lexer": "ipython3",
   "version": "3.9.15"
  }
 },
 "nbformat": 4,
 "nbformat_minor": 5
}
