{
 "cells": [
  {
   "cell_type": "code",
   "execution_count": 9,
   "id": "34bebc56",
   "metadata": {},
   "outputs": [],
   "source": [
    "class LinkedNode():\n",
    "    def __init__(self, x):\n",
    "        self.val = x\n",
    "        self.next = None"
   ]
  },
  {
   "cell_type": "code",
   "execution_count": 30,
   "id": "d3d85a42",
   "metadata": {},
   "outputs": [],
   "source": [
    "class mystack():\n",
    "    \n",
    "    def __init__(self):\n",
    "        self.sentinal = LinkedNode(0)\n",
    "        self.size = 0\n",
    "    \n",
    "    def push(self, x : int) -> None:\n",
    "        newFirst = LinkedNode(x)\n",
    "        newFirst.next = self.sentinal.next\n",
    "        self.sentinal.next = newFirst\n",
    "        self.size +=1\n",
    "    \n",
    "    \n",
    "    def pop(self) -> None:\n",
    "        self.sentinal.next = self.sentinal.next.next\n",
    "        self.size -= 1\n",
    "    \n",
    "    def top(self) -> None:\n",
    "        if self.sentinal.next:\n",
    "             return self.sentinal.next.val\n",
    "        \n",
    "        return None\n",
    "        \n",
    "    \n",
    "    def getSize(self) -> int:\n",
    "        return self.size\n",
    "\n",
    "    \n",
    "    def isEmpty(self) -> bool:        \n",
    "        if self.size > 0:          \n",
    "            return False\n",
    "        \n",
    "        return True"
   ]
  },
  {
   "cell_type": "code",
   "execution_count": 39,
   "id": "4654cc03",
   "metadata": {},
   "outputs": [
    {
     "data": {
      "text/plain": [
       "True"
      ]
     },
     "execution_count": 39,
     "metadata": {},
     "output_type": "execute_result"
    }
   ],
   "source": [
    "a = mystack()\n",
    "\n",
    "a.isEmpty()"
   ]
  },
  {
   "cell_type": "code",
   "execution_count": 40,
   "id": "366f87ff",
   "metadata": {},
   "outputs": [
    {
     "data": {
      "text/plain": [
       "0"
      ]
     },
     "execution_count": 40,
     "metadata": {},
     "output_type": "execute_result"
    }
   ],
   "source": [
    "a.getSize()"
   ]
  },
  {
   "cell_type": "code",
   "execution_count": 41,
   "id": "aef61c46",
   "metadata": {},
   "outputs": [
    {
     "data": {
      "text/plain": [
       "1"
      ]
     },
     "execution_count": 41,
     "metadata": {},
     "output_type": "execute_result"
    }
   ],
   "source": [
    "a.push(1)\n",
    "\n",
    "a.top()"
   ]
  },
  {
   "cell_type": "code",
   "execution_count": 42,
   "id": "82aac2ba",
   "metadata": {},
   "outputs": [
    {
     "data": {
      "text/plain": [
       "False"
      ]
     },
     "execution_count": 42,
     "metadata": {},
     "output_type": "execute_result"
    }
   ],
   "source": [
    "a.isEmpty()"
   ]
  },
  {
   "cell_type": "code",
   "execution_count": 43,
   "id": "0da4a39c",
   "metadata": {},
   "outputs": [
    {
     "data": {
      "text/plain": [
       "1000"
      ]
     },
     "execution_count": 43,
     "metadata": {},
     "output_type": "execute_result"
    }
   ],
   "source": [
    "a.push(100)\n",
    "a.push(1000)\n",
    "\n",
    "a.top()"
   ]
  },
  {
   "cell_type": "code",
   "execution_count": 44,
   "id": "b6c8302e",
   "metadata": {},
   "outputs": [
    {
     "data": {
      "text/plain": [
       "3"
      ]
     },
     "execution_count": 44,
     "metadata": {},
     "output_type": "execute_result"
    }
   ],
   "source": [
    "a.getSize()"
   ]
  },
  {
   "cell_type": "code",
   "execution_count": 45,
   "id": "00431e44",
   "metadata": {},
   "outputs": [
    {
     "data": {
      "text/plain": [
       "100"
      ]
     },
     "execution_count": 45,
     "metadata": {},
     "output_type": "execute_result"
    }
   ],
   "source": [
    "a.pop()\n",
    "\n",
    "a.top()"
   ]
  }
 ],
 "metadata": {
  "kernelspec": {
   "display_name": "Python 3 (ipykernel)",
   "language": "python",
   "name": "python3"
  },
  "language_info": {
   "codemirror_mode": {
    "name": "ipython",
    "version": 3
   },
   "file_extension": ".py",
   "mimetype": "text/x-python",
   "name": "python",
   "nbconvert_exporter": "python",
   "pygments_lexer": "ipython3",
   "version": "3.9.15"
  }
 },
 "nbformat": 4,
 "nbformat_minor": 5
}
