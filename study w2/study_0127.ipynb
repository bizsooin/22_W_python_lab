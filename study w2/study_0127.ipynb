{
 "cells": [
  {
   "cell_type": "markdown",
   "id": "55956c43",
   "metadata": {},
   "source": [
    "quiz 6"
   ]
  },
  {
   "cell_type": "code",
   "execution_count": 22,
   "id": "b729ed2d",
   "metadata": {},
   "outputs": [],
   "source": [
    "#quiz 6-4\n",
    "\n",
    "def linear_search_while(L: list, value: any) -> int:\n",
    "    i = 0\n",
    "    while i < len(L) and L[i] != value:\n",
    "        i = i + 1\n",
    "    if i == len(L):\n",
    "        return -1\n",
    "    else:\n",
    "        return i+1\n",
    "    \n",
    "#comparison = index + 1"
   ]
  },
  {
   "cell_type": "code",
   "execution_count": 23,
   "id": "0a49533e",
   "metadata": {},
   "outputs": [],
   "source": [
    "list_n = [12,6,8,1,3]"
   ]
  },
  {
   "cell_type": "code",
   "execution_count": 24,
   "id": "11398212",
   "metadata": {},
   "outputs": [
    {
     "data": {
      "text/plain": [
       "4"
      ]
     },
     "execution_count": 24,
     "metadata": {},
     "output_type": "execute_result"
    }
   ],
   "source": [
    "linear_search_while(list_n, 1)"
   ]
  },
  {
   "cell_type": "code",
   "execution_count": 25,
   "id": "c2b76b08",
   "metadata": {},
   "outputs": [],
   "source": [
    "def binary_search(L: list, v: any) -> int:\n",
    "    start, end = 0, len(L)-1\n",
    "    j = 0\n",
    "    while start != end + 1:\n",
    "        mid = (start+end) // 2\n",
    "        print(mid)\n",
    "        if L[mid] < v:\n",
    "            print(\"start\", start)\n",
    "            start = mid + 1\n",
    "            j += 1\n",
    "        else:\n",
    "            end = mid - 1\n",
    "            print(\"end\", end)\n",
    "            j += 1\n",
    "    if start < len(L) and L[start] == v:\n",
    "        return start, j\n",
    "    else:\n",
    "        return -1, j"
   ]
  },
  {
   "cell_type": "code",
   "execution_count": 26,
   "id": "1f380bf7",
   "metadata": {},
   "outputs": [
    {
     "name": "stdout",
     "output_type": "stream",
     "text": [
      "2\n",
      "start 0\n",
      "3\n",
      "start 3\n",
      "4\n",
      "start 4\n"
     ]
    },
    {
     "data": {
      "text/plain": [
       "(-1, 3)"
      ]
     },
     "execution_count": 26,
     "metadata": {},
     "output_type": "execute_result"
    }
   ],
   "source": [
    "binary_search(list_n, 9)"
   ]
  },
  {
   "cell_type": "code",
   "execution_count": 27,
   "id": "f64754f8",
   "metadata": {},
   "outputs": [],
   "source": [
    "#quiz 6-5\n",
    "\n",
    "def binary_search_3_case(L: list, v: any) -> int:\n",
    "    start, end = 0, len(L)-1\n",
    "    j = 0\n",
    "    while start != end + 1:\n",
    "        mid = (start + end) // 2\n",
    "        j = j + 1\n",
    "        print(mid)\n",
    "        if L[mid] == v:\n",
    "            return mid, j\n",
    "        \n",
    "        elif L[mid] < v:\n",
    "            start = mid + 1\n",
    "        \n",
    "        else:\n",
    "            end = mid - 1\n",
    "    \n",
    "    return -1, j"
   ]
  },
  {
   "cell_type": "code",
   "execution_count": 28,
   "id": "cbe97819",
   "metadata": {},
   "outputs": [],
   "source": [
    "list_n = [3,5,9,10,23]"
   ]
  },
  {
   "cell_type": "code",
   "execution_count": 29,
   "id": "7a57eda8",
   "metadata": {},
   "outputs": [
    {
     "name": "stdout",
     "output_type": "stream",
     "text": [
      "2\n"
     ]
    },
    {
     "data": {
      "text/plain": [
       "(2, 1)"
      ]
     },
     "execution_count": 29,
     "metadata": {},
     "output_type": "execute_result"
    }
   ],
   "source": [
    "binary_search_3_case(list_n, 9)"
   ]
  },
  {
   "cell_type": "code",
   "execution_count": 30,
   "id": "eea8eee1",
   "metadata": {},
   "outputs": [],
   "source": [
    "def selection_sort(L: list) -> None:\n",
    "    for i in range(len(L)):\n",
    "        smallest = i\n",
    "        for j in range(i+1, len(L)):\n",
    "            if L[j] < L[smallest]:\n",
    "                smallest = j\n",
    "        L[i], L[smallest] = L[smallest], L[i]\n",
    "    \n",
    "    return L"
   ]
  },
  {
   "cell_type": "code",
   "execution_count": 31,
   "id": "eccf3630",
   "metadata": {},
   "outputs": [],
   "source": [
    "#quiz 6-6\n",
    "\n",
    "def selection_sort_count(L: list, v = int) -> None:\n",
    "    k = 0\n",
    "    for i in range(len(L)):\n",
    "        smallest = i\n",
    "        for j in range(i+1, len(L)):\n",
    "            if L[j] < L[smallest]:\n",
    "                smallest = j\n",
    "        L[i], L[smallest] = L[smallest], L[i]\n",
    "        k += 1\n",
    "        if k == v:\n",
    "            print(L)\n",
    "            break"
   ]
  },
  {
   "cell_type": "code",
   "execution_count": 32,
   "id": "1aaa6c7e",
   "metadata": {},
   "outputs": [
    {
     "data": {
      "text/plain": [
       "[2, 4, 5, 7]"
      ]
     },
     "execution_count": 32,
     "metadata": {},
     "output_type": "execute_result"
    }
   ],
   "source": [
    "list_n = [7,5,4,2]\n",
    "\n",
    "selection_sort(list_n)"
   ]
  },
  {
   "cell_type": "code",
   "execution_count": 33,
   "id": "64e5d84a",
   "metadata": {},
   "outputs": [
    {
     "name": "stdout",
     "output_type": "stream",
     "text": [
      "[2, 5, 4, 7]\n"
     ]
    }
   ],
   "source": [
    "list_n = [7,5,4,2]\n",
    "\n",
    "selection_sort_count(list_n, 1)"
   ]
  },
  {
   "cell_type": "code",
   "execution_count": 34,
   "id": "4ecc39a1",
   "metadata": {},
   "outputs": [],
   "source": [
    "def insertion_sort(L: list):\n",
    "    for i in range(1, len(L)):\n",
    "        for j in range(i,0,-1):\n",
    "            if L[j-1] > L[j]:\n",
    "                L[j-1], L[j] = L[j], L[j-1]\n",
    "            else:\n",
    "                break\n",
    "    \n",
    "    return L"
   ]
  },
  {
   "cell_type": "code",
   "execution_count": 35,
   "id": "c403319e",
   "metadata": {},
   "outputs": [],
   "source": [
    "list_n = [4, 29, 5, 26, 10 ,20]"
   ]
  },
  {
   "cell_type": "code",
   "execution_count": 36,
   "id": "7e34fb46",
   "metadata": {},
   "outputs": [
    {
     "data": {
      "text/plain": [
       "[4, 5, 10, 20, 26, 29]"
      ]
     },
     "execution_count": 36,
     "metadata": {},
     "output_type": "execute_result"
    }
   ],
   "source": [
    "insertion_sort(list_n)"
   ]
  },
  {
   "cell_type": "code",
   "execution_count": 37,
   "id": "7b005180",
   "metadata": {},
   "outputs": [],
   "source": [
    "#quiz 6-7\n",
    "\n",
    "def insertion_sort_count(L: list, v = int):\n",
    "    k = 0\n",
    "    for i in range(1, len(L)):\n",
    "        for j in range(i,0,-1):\n",
    "            if L[j-1] > L[j]:\n",
    "                L[j-1], L[j] = L[j], L[j-1]\n",
    "                k = k + 1\n",
    "            else:\n",
    "                k = k + 1\n",
    "            \n",
    "            if k + 1 == v:\n",
    "                print(L)\n",
    "                break\n",
    "    #return L"
   ]
  },
  {
   "cell_type": "code",
   "execution_count": 38,
   "id": "d1bed9e5",
   "metadata": {},
   "outputs": [
    {
     "name": "stdout",
     "output_type": "stream",
     "text": [
      "[4, 5, 29, 26, 10, 20]\n"
     ]
    }
   ],
   "source": [
    "list_n = [4, 29, 5, 26, 10 ,20]\n",
    "\n",
    "insertion_sort_count(list_n, 4)"
   ]
  },
  {
   "cell_type": "code",
   "execution_count": 39,
   "id": "9624b7bf",
   "metadata": {},
   "outputs": [
    {
     "data": {
      "image/png": "[encoded data removed]",
      "text/plain": [
       "<Figure size 640x480 with 1 Axes>"
      ]
     },
     "metadata": {},
     "output_type": "display_data"
    }
   ],
   "source": [
    "#quiz 6-8\n",
    "\n",
    "import matplotlib.pyplot as plt\n",
    "import math\n",
    "\n",
    "n = list(range(1, 6))\n",
    "n_factorial = [math.factorial(i) for i in n]\n",
    "n_2n = [math.pow(2,i) for i in n]\n",
    "n_n = list(range(1,6))\n",
    "n_squrare = [i ** 2 for i in n]\n",
    "\n",
    "plt.plot(n, n_squrare)\n",
    "plt.plot(n, n_factorial)\n",
    "plt.plot(n, n_2n)\n",
    "\n",
    "plt.xlabel('n')\n",
    "plt.ylabel('computing')\n",
    "plt.title('Function')\n",
    "plt.show()"
   ]
  },
  {
   "cell_type": "markdown",
   "id": "6e233a67",
   "metadata": {},
   "source": [
    "quiz 7 "
   ]
  },
  {
   "cell_type": "code",
   "execution_count": 40,
   "id": "1d44261d",
   "metadata": {},
   "outputs": [],
   "source": [
    "def merge(L:list, first: int, mid:int, last: int) -> None:\n",
    "    k = first\n",
    "    sub1 = L[first:mid+1]\n",
    "    sub2 = L[mid+1:last+1]\n",
    "    \n",
    "    i = j = 0\n",
    "    \n",
    "    while i < len(sub1) and j < len(sub2):\n",
    "        if sub1[i] <= sub2[j]:\n",
    "            L[k] = sub1[i]\n",
    "            i = i + 1\n",
    "        \n",
    "        else:\n",
    "            L[k] = sub2[j]\n",
    "            j = j + 1\n",
    "        \n",
    "        k +=1\n",
    "    \n",
    "    if i < len(sub1):\n",
    "        L[k:last+1] = sub1[i:]\n",
    "    \n",
    "    elif j < len(sub2):\n",
    "        L[k:last+1] = sub2[j:]\n",
    "\n",
    "        \n",
    "def mergesorthelp(L:list, first: int, last: int) -> None:\n",
    "    if first == last:\n",
    "        return L\n",
    "    \n",
    "    else:\n",
    "        mid = first + (last - first) // 2\n",
    "        \n",
    "        mergesorthelp(L, first, mid)\n",
    "        mergesorthelp(L, mid+1, last)\n",
    "        \n",
    "        merge(L, first, mid, last)        \n",
    "        \n",
    "        return L\n",
    "    \n",
    "        \n",
    "def mergesort(L: list) -> None:\n",
    "    x = mergesorthelp(L, 0, len(L)-1)\n",
    "    \n",
    "    return x"
   ]
  },
  {
   "cell_type": "code",
   "execution_count": 41,
   "id": "019cf8c7",
   "metadata": {},
   "outputs": [
    {
     "data": {
      "text/plain": [
       "[4, 5, 10, 20, 26, 29]"
      ]
     },
     "execution_count": 41,
     "metadata": {},
     "output_type": "execute_result"
    }
   ],
   "source": [
    "list_n = [4, 29, 5, 26, 10 ,20]\n",
    "\n",
    "mergesort(list_n)"
   ]
  },
  {
   "cell_type": "code",
   "execution_count": 42,
   "id": "ecb6d4b0",
   "metadata": {},
   "outputs": [],
   "source": [
    "# quiz 7-2\n",
    "\n",
    "def sub_merge(sub1, sub2, x):\n",
    "    k = 0\n",
    "    last = (len(sub1) + len(sub2))\n",
    "    L = [0] * last\n",
    "    \n",
    "    i = j = 0\n",
    "    \n",
    "    while i < len(sub1) and j < len(sub2):\n",
    "        if sub1[i] <= sub2[j]:\n",
    "            L[k] = sub1[i]\n",
    "            i = i + 1\n",
    "            k += 1\n",
    "        \n",
    "        else:\n",
    "            L[k] = sub2[j]\n",
    "            j = j + 1\n",
    "            k += 1\n",
    "    \n",
    "    if i < len(sub1):\n",
    "        L[k:last+1] = sub1[i:]\n",
    "    \n",
    "    elif j < len(sub2):\n",
    "        L[k:last+1] = sub2[j:]\n",
    "        \n",
    "    \n",
    "    return L[x-1]"
   ]
  },
  {
   "cell_type": "code",
   "execution_count": 43,
   "id": "211b86b8",
   "metadata": {},
   "outputs": [
    {
     "data": {
      "text/plain": [
       "7"
      ]
     },
     "execution_count": 43,
     "metadata": {},
     "output_type": "execute_result"
    }
   ],
   "source": [
    "list1 = [2,4,7,9]\n",
    "list2 = [1,6,8,12]\n",
    "\n",
    "sub_merge(list1, list2, 5)"
   ]
  },
  {
   "cell_type": "code",
   "execution_count": 44,
   "id": "da766243",
   "metadata": {},
   "outputs": [],
   "source": [
    "#quiz 7-4\n",
    "\n",
    "def func(x):\n",
    "    if (x == 0 or x == 1):\n",
    "        return 1\n",
    "    \n",
    "    return func(x-1) * x"
   ]
  },
  {
   "cell_type": "code",
   "execution_count": 45,
   "id": "ac2e063a",
   "metadata": {},
   "outputs": [
    {
     "data": {
      "text/plain": [
       "720"
      ]
     },
     "execution_count": 45,
     "metadata": {},
     "output_type": "execute_result"
    }
   ],
   "source": [
    "func(6)"
   ]
  },
  {
   "cell_type": "code",
   "execution_count": 46,
   "id": "2397b03f",
   "metadata": {},
   "outputs": [
    {
     "name": "stdout",
     "output_type": "stream",
     "text": [
      "720\n"
     ]
    }
   ],
   "source": [
    "#factorial\n",
    "\n",
    "import math\n",
    "\n",
    "print(math.factorial(6))"
   ]
  },
  {
   "cell_type": "code",
   "execution_count": 47,
   "id": "ddb825b3",
   "metadata": {},
   "outputs": [
    {
     "name": "stdout",
     "output_type": "stream",
     "text": [
      "Hello\n",
      "16.0\n",
      "Hello\n",
      "8.0\n",
      "Hello\n",
      "4.0\n",
      "Hello\n",
      "2.0\n",
      "Hello\n",
      "1.0\n"
     ]
    }
   ],
   "source": [
    "#quiz 7-5\n",
    "\n",
    "def f(n):\n",
    "    if n > 1:\n",
    "        print(\"Hello\")\n",
    "        print(n/2)\n",
    "        return f(n/2)\n",
    "\n",
    "f(32)"
   ]
  },
  {
   "cell_type": "markdown",
   "id": "6963b393",
   "metadata": {},
   "source": [
    "Quiz 8"
   ]
  },
  {
   "cell_type": "code",
   "execution_count": 4,
   "id": "1eca68e6",
   "metadata": {},
   "outputs": [],
   "source": [
    "class LinkedNode():\n",
    "    def __init__(self, x):\n",
    "        self.val = x\n",
    "        self.next = None"
   ]
  },
  {
   "cell_type": "code",
   "execution_count": 5,
   "id": "18d15515",
   "metadata": {},
   "outputs": [],
   "source": [
    "class SLList:\n",
    "    def __init__(self):\n",
    "        self.sentinal = LinkedNode(0)\n",
    "        self.size = 0\n",
    "    \n",
    "    #add first\n",
    "    def add1(self, x : int) -> None:\n",
    "        newFirst = LinkedNode(x)\n",
    "        newFirst.next = self.sentinal.next\n",
    "        self.sentinal.next = newFirst\n",
    "        self.size +=1\n",
    "    \n",
    "    #add last\n",
    "    def add2(self, x: int) -> None:\n",
    "        self.size +=1 \n",
    "        curNode = self.sentinal\n",
    "        \n",
    "        while curNode.next != None:\n",
    "            curNode = curNode.next\n",
    "        curNode.next = LinkedNode(x)\n",
    "   \n",
    "    #first value\n",
    "    def get1(self) -> int:\n",
    "        if self.sentinal.next:\n",
    "            return self.sentinal.next.val    \n",
    "        return None\n",
    "\n",
    "    #size\n",
    "    def get2(self) -> int:\n",
    "        return self.size\n",
    "    \n",
    "\n",
    "    # print linked list\n",
    "    def print_list(self):\n",
    "        curNode = self.sentinal.next\n",
    "        while curNode != None:\n",
    "            print(curNode.val)\n",
    "            curNode = curNode.next\n",
    "    "
   ]
  },
  {
   "cell_type": "code",
   "execution_count": 9,
   "id": "19aaba7c",
   "metadata": {},
   "outputs": [
    {
     "name": "stdout",
     "output_type": "stream",
     "text": [
      "1\n",
      "7\n",
      "3\n",
      "4\n",
      "1\n"
     ]
    }
   ],
   "source": [
    "#quiz 8-5\n",
    "\n",
    "L = SLList()\n",
    "\n",
    "L.add1(5)\n",
    "print(L.get2())\n",
    "L.add1(7)\n",
    "print(L.get1())\n",
    "L.add2(3)\n",
    "print(L.get2())\n",
    "L.add1(1)\n",
    "print(L.get2())\n",
    "L.add2(9)\n",
    "print(L.get1())"
   ]
  },
  {
   "cell_type": "code",
   "execution_count": 10,
   "id": "8dd5a4e6",
   "metadata": {},
   "outputs": [
    {
     "name": "stdout",
     "output_type": "stream",
     "text": [
      "1\n",
      "7\n",
      "5\n",
      "3\n",
      "9\n",
      "None\n"
     ]
    }
   ],
   "source": [
    "print(L.print_list())"
   ]
  },
  {
   "cell_type": "markdown",
   "id": "182a05b8",
   "metadata": {},
   "source": [
    "Quiz 9"
   ]
  },
  {
   "cell_type": "code",
   "execution_count": 2,
   "id": "5c58c8c6",
   "metadata": {},
   "outputs": [
    {
     "data": {
      "text/plain": [
       "86"
      ]
     },
     "execution_count": 2,
     "metadata": {},
     "output_type": "execute_result"
    }
   ],
   "source": [
    "#quiz q-2\n",
    "\n",
    "s = []\n",
    "\n",
    "s.append(54)\n",
    "s.append(52)\n",
    "s.pop()\n",
    "s.append(55)\n",
    "s.append(62)\n",
    "\n",
    "s_val= s.pop()\n",
    "\n",
    "q = []\n",
    "q.append(21)\n",
    "q.append(24)\n",
    "q.pop(0)\n",
    "q.append(28)\n",
    "q.append(32)\n",
    "\n",
    "q_val = q.pop(0)\n",
    "\n",
    "s_val + q_val"
   ]
  }
 ],
 "metadata": {
  "kernelspec": {
   "display_name": "Python 3 (ipykernel)",
   "language": "python",
   "name": "python3"
  },
  "language_info": {
   "codemirror_mode": {
    "name": "ipython",
    "version": 3
   },
   "file_extension": ".py",
   "mimetype": "text/x-python",
   "name": "python",
   "nbconvert_exporter": "python",
   "pygments_lexer": "ipython3",
   "version": "3.9.15"
  }
 },
 "nbformat": 4,
 "nbformat_minor": 5
}
