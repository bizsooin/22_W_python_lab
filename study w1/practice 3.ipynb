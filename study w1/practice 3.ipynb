{
 "cells": [
  {
   "cell_type": "code",
   "execution_count": 1,
   "id": "f4f22cfe",
   "metadata": {},
   "outputs": [],
   "source": [
    "from typing import TextIO\n",
    "\n",
    "#open file\n",
    "def process_file(input_file: TextIO) -> float:\n",
    "    max_num = 0 #initialization\n",
    "    \n",
    "    line = input_file.readline()\n",
    "    \n",
    "    while line:\n",
    "        \n",
    "        if not line.startswith('#'):\n",
    "            \n",
    "            valid_line = line.split('#')[0].strip() #filter valid line\n",
    "            \n",
    "            #print(valid_line)\n",
    "            \n",
    "            num_strings = valid_line.split(\".\")\n",
    "            \n",
    "            \n",
    "            for num_str in num_strings:\n",
    "                if num_str: #Filter empty string\n",
    "                    num = int(num_str) #convert to float\n",
    "                    if max_num < num:\n",
    "                        max_num = num\n",
    "                        \n",
    "        line = input_file.readline() #readnextline\n",
    "    \n",
    "    return max_num\n",
    "    "
   ]
  },
  {
   "cell_type": "code",
   "execution_count": 2,
   "id": "1abc83d6",
   "metadata": {
    "scrolled": false
   },
   "outputs": [
    {
     "name": "stdout",
     "output_type": "stream",
     "text": [
      "6721\n"
     ]
    }
   ],
   "source": [
    "with open('file_practice.txt', 'r') as data:\n",
    "    output = process_file(data)\n",
    "\n",
    "\n",
    "print(output)"
   ]
  }
 ],
 "metadata": {
  "kernelspec": {
   "display_name": "Python 3 (ipykernel)",
   "language": "python",
   "name": "python3"
  },
  "language_info": {
   "codemirror_mode": {
    "name": "ipython",
    "version": 3
   },
   "file_extension": ".py",
   "mimetype": "text/x-python",
   "name": "python",
   "nbconvert_exporter": "python",
   "pygments_lexer": "ipython3",
   "version": "3.9.15"
  }
 },
 "nbformat": 4,
 "nbformat_minor": 5
}
