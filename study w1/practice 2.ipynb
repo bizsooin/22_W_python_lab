{
 "cells": [
  {
   "cell_type": "code",
   "execution_count": 3,
   "id": "5ab99873",
   "metadata": {},
   "outputs": [],
   "source": [
    "#practice 2-1\n",
    "\n",
    "exam = [[1,1,0],[1,0,1],[0,0,0]]\n",
    "\n",
    "exam2 = [[1,1,0,0],[1,0,0,1],[0,1,1,1],[1,0,1,0]]"
   ]
  },
  {
   "cell_type": "code",
   "execution_count": 8,
   "id": "af4c08d1",
   "metadata": {},
   "outputs": [],
   "source": [
    "def flip(x):\n",
    "    k = [row[::-1] for row in x]\n",
    "    \n",
    "    print(k)\n",
    "    for i in range(len(k)):\n",
    "        for j in range(len(k[0])):\n",
    "             k[i][j] = 1 - k[i][j]\n",
    "    \n",
    "    return k"
   ]
  },
  {
   "cell_type": "code",
   "execution_count": 9,
   "id": "3bdcb2aa",
   "metadata": {},
   "outputs": [
    {
     "name": "stdout",
     "output_type": "stream",
     "text": [
      "[[0, 1, 1], [1, 0, 1], [0, 0, 0]]\n"
     ]
    },
    {
     "data": {
      "text/plain": [
       "[[1, 0, 0], [0, 1, 0], [1, 1, 1]]"
      ]
     },
     "execution_count": 9,
     "metadata": {},
     "output_type": "execute_result"
    }
   ],
   "source": [
    "flip(exam)"
   ]
  },
  {
   "cell_type": "code",
   "execution_count": 23,
   "id": "edad0aed",
   "metadata": {},
   "outputs": [
    {
     "data": {
      "text/plain": [
       "[[1, 1, 0, 0], [0, 1, 1, 0], [0, 0, 0, 1], [1, 0, 1, 0]]"
      ]
     },
     "execution_count": 23,
     "metadata": {},
     "output_type": "execute_result"
    }
   ],
   "source": [
    "flip(exam2)"
   ]
  },
  {
   "cell_type": "markdown",
   "id": "7f4e0900",
   "metadata": {},
   "source": [
    "Deep copy & Shallow copy\n",
    "\n",
    "Shallow copy: if modify data in original object, copies are reflected (why = same data in memory)\n",
    "\n",
    "Deep copy: if modify data in original object, copies are not reflected (why = new memory address)"
   ]
  },
  {
   "cell_type": "code",
   "execution_count": 24,
   "id": "5527987f",
   "metadata": {},
   "outputs": [
    {
     "name": "stdout",
     "output_type": "stream",
     "text": [
      "[1, 2, [5, 4]]\n"
     ]
    }
   ],
   "source": [
    "#shallow copy\n",
    "\n",
    "original_list = [1, 2, [3, 4]]\n",
    "shallow_copy = original_list.copy()\n",
    "shallow_copy[2][0] = 5\n",
    "print(original_list)"
   ]
  },
  {
   "cell_type": "code",
   "execution_count": 25,
   "id": "55d9d0e9",
   "metadata": {},
   "outputs": [
    {
     "name": "stdout",
     "output_type": "stream",
     "text": [
      "[1, 2, [3, 4]]\n"
     ]
    }
   ],
   "source": [
    "#deep copy\n",
    "\n",
    "import copy\n",
    "original_list = [1, 2, [3, 4]]\n",
    "deep_copy = copy.deepcopy(original_list)\n",
    "deep_copy[2][0] = 5\n",
    "print(original_list)"
   ]
  }
 ],
 "metadata": {
  "kernelspec": {
   "display_name": "Python 3 (ipykernel)",
   "language": "python",
   "name": "python3"
  },
  "language_info": {
   "codemirror_mode": {
    "name": "ipython",
    "version": 3
   },
   "file_extension": ".py",
   "mimetype": "text/x-python",
   "name": "python",
   "nbconvert_exporter": "python",
   "pygments_lexer": "ipython3",
   "version": "3.9.15"
  }
 },
 "nbformat": 4,
 "nbformat_minor": 5
}
