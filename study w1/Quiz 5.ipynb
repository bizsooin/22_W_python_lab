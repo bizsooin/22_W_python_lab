{
 "cells": [
  {
   "cell_type": "markdown",
   "id": "749867fd",
   "metadata": {},
   "source": [
    "Review\n",
    "\n",
    "\n",
    "1. \"__init__\" \n",
    "- initalize the attributes of the object\n",
    "\n",
    "2. \"super()\" \n",
    "- call method from a parent class\n",
    "- useful to inherit the functionality of the parent class, but want to add/modify functionality in child class\n",
    "\n",
    "3. \"-> None\"\n",
    "- specifies \"__init__\" does not return any value (optional)\n",
    "\n",
    "4. \"isinstance()\"\n",
    "- subclass/instance of a particular class\n",
    "- or function\n",
    "\n",
    "5. \"__eq__\"\n",
    "- define two object of class should be compared for equality\n",
    "\n",
    "6. \"__ad__\"\n",
    "- '+\" operator (self + other)"
   ]
  },
  {
   "cell_type": "code",
   "execution_count": 5,
   "id": "180037f5",
   "metadata": {},
   "outputs": [],
   "source": [
    "#2\n",
    "\n",
    "class knight:\n",
    "    \n",
    "    def __init__(self, health, mana, armor):\n",
    "        self.health = health\n",
    "        self.mana = mana\n",
    "        self.armor = armor\n",
    "        \n",
    "    def slash(self):\n",
    "        print(\"sword\")\n",
    "        #return \"sword\""
   ]
  },
  {
   "cell_type": "code",
   "execution_count": 6,
   "id": "ae4a6148",
   "metadata": {},
   "outputs": [
    {
     "name": "stdout",
     "output_type": "stream",
     "text": [
      "256 310 38\n",
      "sword\n"
     ]
    }
   ],
   "source": [
    "x = knight(256, 310, 38)\n",
    "\n",
    "\n",
    "print(x.health, x.mana, x.armor)\n",
    "x.slash()"
   ]
  },
  {
   "cell_type": "code",
   "execution_count": 3,
   "id": "1468f41e",
   "metadata": {},
   "outputs": [],
   "source": [
    "#3\n",
    "\n",
    "class mammal:\n",
    "    \n",
    "    def __init__(self) -> None:\n",
    "        self.lay_egg = False\n",
    "        self.breast_Food = True\n",
    "    \n",
    "    def sound(self) -> None:\n",
    "        return None\n",
    "\n",
    "class wolf(mammal):\n",
    "    \n",
    "    def __init__(self) -> None:\n",
    "        super().__init__()\n",
    "        self.is_furry = True\n",
    "        self.is_carnivore = True\n",
    "    \n",
    "    def sound(self) -> str:\n",
    "        return \"Awwww\"\n",
    "\n",
    "class dog(wolf):\n",
    "    \n",
    "    def __init__(self) -> None:\n",
    "        super().__init__()\n",
    "        self.ability = 'pet'\n",
    "    \n",
    "    def sound(self) -> str:\n",
    "        return \"Bark\"\n",
    "\n",
    "class horse(mammal):\n",
    "    \n",
    "    def __init__(self) -> None:\n",
    "    \n",
    "        self.is_furry = True\n",
    "        self.is_carnivore = False\n",
    "        self.ability = 'ride'\n",
    "    \n",
    "    def sound(self) -> str:\n",
    "        return \"Heeee\" "
   ]
  },
  {
   "cell_type": "code",
   "execution_count": 5,
   "id": "4f7535d7",
   "metadata": {},
   "outputs": [
    {
     "ename": "AttributeError",
     "evalue": "'horse' object has no attribute 'lay_egg'",
     "output_type": "error",
     "traceback": [
      "\u001b[1;31m---------------------------------------------------------------------------\u001b[0m",
      "\u001b[1;31mAttributeError\u001b[0m                            Traceback (most recent call last)",
      "Cell \u001b[1;32mIn[5], line 7\u001b[0m\n\u001b[0;32m      3\u001b[0m my_horse \u001b[38;5;241m=\u001b[39m horse()\n\u001b[0;32m      5\u001b[0m \u001b[38;5;66;03m#my_horse.is_carnivore\u001b[39;00m\n\u001b[1;32m----> 7\u001b[0m \u001b[43mmy_horse\u001b[49m\u001b[38;5;241;43m.\u001b[39;49m\u001b[43mlay_egg\u001b[49m\n",
      "\u001b[1;31mAttributeError\u001b[0m: 'horse' object has no attribute 'lay_egg'"
     ]
    }
   ],
   "source": [
    "#without super\n",
    "\n",
    "my_horse = horse()\n",
    "\n",
    "#my_horse.is_carnivore\n",
    "\n",
    "my_horse.lay_egg"
   ]
  },
  {
   "cell_type": "code",
   "execution_count": 87,
   "id": "9f9a026d",
   "metadata": {},
   "outputs": [
    {
     "data": {
      "text/plain": [
       "True"
      ]
     },
     "execution_count": 87,
     "metadata": {},
     "output_type": "execute_result"
    }
   ],
   "source": [
    "#with super\n",
    "\n",
    "my_dog = dog()\n",
    "\n",
    "my_dog.breast_Food"
   ]
  },
  {
   "cell_type": "code",
   "execution_count": 58,
   "id": "f85981f6",
   "metadata": {},
   "outputs": [
    {
     "data": {
      "text/plain": [
       "True"
      ]
     },
     "execution_count": 58,
     "metadata": {},
     "output_type": "execute_result"
    }
   ],
   "source": [
    "isinstance(dog(), mammal)"
   ]
  },
  {
   "cell_type": "code",
   "execution_count": 59,
   "id": "d5544960",
   "metadata": {},
   "outputs": [
    {
     "data": {
      "text/plain": [
       "True"
      ]
     },
     "execution_count": 59,
     "metadata": {},
     "output_type": "execute_result"
    }
   ],
   "source": [
    "my_dog = dog()\n",
    "my_dog.breast_Food"
   ]
  },
  {
   "cell_type": "code",
   "execution_count": 94,
   "id": "de1c6240",
   "metadata": {},
   "outputs": [
    {
     "name": "stdout",
     "output_type": "stream",
     "text": [
      "True\n",
      "type1\n",
      "type2\n"
     ]
    }
   ],
   "source": [
    "#4\n",
    "\n",
    "class foo:\n",
    "    def __init__(self, v, type_):\n",
    "        self.value = v\n",
    "        self.type_ = type_\n",
    "    \n",
    "    def __eq__(self, other):\n",
    "        if isinstance(other, foo):\n",
    "            return self.value == other.value\n",
    "        \n",
    "        return False\n",
    "\n",
    "f1, f2 = foo(1, 'type1'), foo(1, 'type2')\n",
    "print(f1 == f2)\n",
    "\n",
    "print(f1.type_)\n",
    "print(f2.type_)"
   ]
  },
  {
   "cell_type": "code",
   "execution_count": 61,
   "id": "cf40adc1",
   "metadata": {},
   "outputs": [
    {
     "data": {
      "text/plain": [
       "True"
      ]
     },
     "execution_count": 61,
     "metadata": {},
     "output_type": "execute_result"
    }
   ],
   "source": [
    "isinstance(1, int) and isinstance(1.0, float) and isinstance('kk', str)"
   ]
  },
  {
   "cell_type": "code",
   "execution_count": 62,
   "id": "b37d62d9",
   "metadata": {},
   "outputs": [
    {
     "data": {
      "text/plain": [
       "True"
      ]
     },
     "execution_count": 62,
     "metadata": {},
     "output_type": "execute_result"
    }
   ],
   "source": [
    "x = 1\n",
    "\n",
    "x + 2 == x.__add__(2)"
   ]
  },
  {
   "cell_type": "code",
   "execution_count": 63,
   "id": "f9476059",
   "metadata": {},
   "outputs": [
    {
     "data": {
      "text/plain": [
       "True"
      ]
     },
     "execution_count": 63,
     "metadata": {},
     "output_type": "execute_result"
    }
   ],
   "source": [
    "class complex_number:\n",
    "    \n",
    "    def __init__(self, v, i):\n",
    "        self.real_part = v\n",
    "        self.imaginary_part = i\n",
    "    \n",
    "    def __add__(self, other):\n",
    "        return complex_number(self.real_part + other.real_part, self.imaginary_part + other.imaginary_part)\n",
    "    \n",
    "    def __eq__(self, other):\n",
    "        return self.real_part == other.real_part and self.imaginary_part == other.imaginary_part\n",
    "\n",
    "complex_number(5, 7) == complex_number(1,2) + complex_number(4,5)"
   ]
  },
  {
   "cell_type": "code",
   "execution_count": 6,
   "id": "25b71e98",
   "metadata": {},
   "outputs": [],
   "source": [
    "#5\n",
    "\n",
    "class customer():\n",
    "    \n",
    "    def __init__(self, m: int, cart : list) -> None:\n",
    "        self.money = m\n",
    "        self.shopping_cart = cart\n",
    "    \n",
    "    def buy(self, item : str, catalog: dict) -> None:\n",
    "        if self.money < catalog[item]:\n",
    "            print(\"You can't buy this item\")\n",
    "            return\n",
    "        \n",
    "        self.money -= catalog[item]\n",
    "        self.shopping_cart.append(item)\n",
    "\n",
    "    def refund(self, item: str, catalog: dict) -> None:\n",
    "        if item not in self.shopping_cart:\n",
    "            print(f\"item {item} is not in shopping cart\")\n",
    "            return\n",
    "        \n",
    "        self.money += catalog[item]\n",
    "        self.shopping_cart.remove(item)\n",
    "        return\n",
    "                                  "
   ]
  },
  {
   "cell_type": "code",
   "execution_count": 7,
   "id": "543681f6",
   "metadata": {},
   "outputs": [],
   "source": [
    "catalog  = {'soap': 1500, 'milk': 2000, \"water\": 500, \"noodle\": 1000, \"socks\": 1000, \"onion\": 3000 }"
   ]
  },
  {
   "cell_type": "code",
   "execution_count": 8,
   "id": "e25fe81d",
   "metadata": {},
   "outputs": [
    {
     "name": "stdout",
     "output_type": "stream",
     "text": [
      "item socks is not in shopping cart\n"
     ]
    }
   ],
   "source": [
    "me = customer(5000, ['soap', 'soap', 'water'])\n",
    "me.buy('milk', catalog)\n",
    "#5000 - 2000 = 3000\n",
    "me.buy('noodle', catalog)\n",
    "#3000 - 1000 = 2000\n",
    "me.refund('socks', catalog)\n",
    "#0\n",
    "me.refund('soap', catalog)\n",
    "#2000 + 1500 = 3500\n",
    "me.buy('onion', catalog)\n",
    "#3500 - 3000 = 500"
   ]
  },
  {
   "cell_type": "code",
   "execution_count": 9,
   "id": "fc66815e",
   "metadata": {},
   "outputs": [
    {
     "name": "stdout",
     "output_type": "stream",
     "text": [
      "Money: 500, Items: ['soap', 'water', 'milk', 'noodle', 'onion']\n"
     ]
    }
   ],
   "source": [
    "print(f\"Money: {me.money}, Items: {me.shopping_cart}\")"
   ]
  },
  {
   "cell_type": "code",
   "execution_count": 111,
   "id": "6ea73490",
   "metadata": {},
   "outputs": [],
   "source": [
    "class MyClass:\n",
    "    def __init__(self) -> None:\n",
    "        self.value = 0"
   ]
  },
  {
   "cell_type": "code",
   "execution_count": 79,
   "id": "4817f9eb",
   "metadata": {},
   "outputs": [
    {
     "data": {
      "text/plain": [
       "0"
      ]
     },
     "execution_count": 79,
     "metadata": {},
     "output_type": "execute_result"
    }
   ],
   "source": [
    "MyClass().value"
   ]
  }
 ],
 "metadata": {
  "kernelspec": {
   "display_name": "Python 3 (ipykernel)",
   "language": "python",
   "name": "python3"
  },
  "language_info": {
   "codemirror_mode": {
    "name": "ipython",
    "version": 3
   },
   "file_extension": ".py",
   "mimetype": "text/x-python",
   "name": "python",
   "nbconvert_exporter": "python",
   "pygments_lexer": "ipython3",
   "version": "3.9.15"
  }
 },
 "nbformat": 4,
 "nbformat_minor": 5
}
