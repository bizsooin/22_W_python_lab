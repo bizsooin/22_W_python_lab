{
 "cells": [
  {
   "cell_type": "code",
   "execution_count": 39,
   "id": "254ec23e",
   "metadata": {},
   "outputs": [],
   "source": [
    "class Member:\n",
    "    def __init__(self, name: str, address: str, email: str, DoB: str, affiliation: str) -> None:\n",
    "        self.name = name\n",
    "        self.address = address\n",
    "        self.email = email\n",
    "        self.DoB = DoB\n",
    "        self.affiliation = affiliation\n",
    "        self.infoList = [self.name, self.address, self.email, self.DoB, self.affiliation]\n",
    "\n",
    "    def printInfo(self):\n",
    "        print(self.infoList)\n",
    "        \n",
    "    def switch_affiliation(self, new_affiliation: str):\n",
    "        print(\"Member\", self.name, \"changes affiliation from\", self.affiliation, \"to\", new_affiliation)\n",
    "        self.affiliation = new_affiliation\n",
    "        self.infoList[-1] = new_affiliation"
   ]
  },
  {
   "cell_type": "code",
   "execution_count": 40,
   "id": "62925eed",
   "metadata": {},
   "outputs": [],
   "source": [
    "mem = Member('Lee Sooin', '58-517', 'soo971031@snu.ac.kr', '1997-1031', 'MS/OM')"
   ]
  },
  {
   "cell_type": "code",
   "execution_count": 41,
   "id": "9ab29de0",
   "metadata": {},
   "outputs": [],
   "source": [
    "class Student(Member):\n",
    "    def __init__(self, name: str, address: str, email: str, DoB: str, affiliation: str, student_num: str) -> None:\n",
    "        super().__init__(name, address, email, DoB, affiliation)\n",
    "        self.student_num = student_num\n",
    "        self.advisor = \"\"\n",
    "        self.courses_taken = []\n",
    "        self.courses_taking = []\n",
    "        self.GPA = 0  \n",
    "        self.infoList += [self.student_num, self.advisor, self.courses_taken, self.courses_taking, self.GPA]\n",
    "    \n",
    "    def switch_affiliation(self, new_affiliation: str):\n",
    "        print(\"Student\", self.name, \"changes affiliation from\", self.affiliation, \"to\", new_affiliation)\n",
    "        self.affiliation = new_affiliation\n"
   ]
  },
  {
   "cell_type": "code",
   "execution_count": 42,
   "id": "d7ee83ec",
   "metadata": {},
   "outputs": [],
   "source": [
    "class Faculty(Member):\n",
    "    def __init__(self, name: str, address: str, email: str, DoB: str, affiliation: str, faculty_num: str) -> None:\n",
    "        super().__init__(name, address, email, DoB, affiliation)\n",
    "        self.faculty_num = faculty_num\n",
    "        self.advisees = []\n",
    "        self.courses_teaching = []\n",
    "        self.infoList += [self.faculty_num, self.advisees, self.courses_teaching]\n",
    "        \n",
    "    def switch_affiliation(self, new_affiliation: str):\n",
    "        print(\"Faculty\", self.name, \"changes affiliation from\", self.affiliation, \"to\", new_affiliation)\n",
    "        self.affiliation = new_affiliation"
   ]
  },
  {
   "cell_type": "code",
   "execution_count": 43,
   "id": "01604f18",
   "metadata": {},
   "outputs": [],
   "source": [
    "hyungsin = Faculty(\"Hyung-Sin Kim\", \"my addr\", \"my email\", \"my DoB\" , \"Data Science\" , \"my faculty_num\")"
   ]
  },
  {
   "cell_type": "code",
   "execution_count": 44,
   "id": "357d4519",
   "metadata": {},
   "outputs": [],
   "source": [
    "sooin = Student('Lee Sooin', '58-517', 'soo971031@snu.ac.kr', '1997-1031', 'MS/OM', '2022')"
   ]
  },
  {
   "cell_type": "code",
   "execution_count": 45,
   "id": "3387de5c",
   "metadata": {},
   "outputs": [
    {
     "name": "stdout",
     "output_type": "stream",
     "text": [
      "['Hyung-Sin Kim', 'my addr', 'my email', 'my DoB', 'Data Science', 'my faculty_num', [], []]\n"
     ]
    }
   ],
   "source": [
    "hyungsin.printInfo()"
   ]
  },
  {
   "cell_type": "code",
   "execution_count": 46,
   "id": "0b854f10",
   "metadata": {},
   "outputs": [
    {
     "name": "stdout",
     "output_type": "stream",
     "text": [
      "['Lee Sooin', '58-517', 'soo971031@snu.ac.kr', '1997-1031', 'MS/OM', '2022', '', [], [], 0]\n"
     ]
    }
   ],
   "source": [
    "sooin.printInfo()"
   ]
  },
  {
   "cell_type": "code",
   "execution_count": 47,
   "id": "ccd42d6a",
   "metadata": {},
   "outputs": [
    {
     "name": "stdout",
     "output_type": "stream",
     "text": [
      "Faculty Hyung-Sin Kim changes affiliation from Data Science to IM\n"
     ]
    }
   ],
   "source": [
    "hyungsin.switch_affiliation(\"IM\")"
   ]
  },
  {
   "cell_type": "code",
   "execution_count": 48,
   "id": "b21283dc",
   "metadata": {},
   "outputs": [
    {
     "name": "stdout",
     "output_type": "stream",
     "text": [
      "Student Lee Sooin changes affiliation from MS/OM to IM\n"
     ]
    }
   ],
   "source": [
    "sooin.switch_affiliation(\"IM\")"
   ]
  },
  {
   "cell_type": "code",
   "execution_count": 49,
   "id": "a5a23353",
   "metadata": {},
   "outputs": [],
   "source": [
    "#cartesian plane\n",
    "\n",
    "from math import sqrt\n",
    "\n",
    "class point():\n",
    "    def __init__(self, x:float, y: float) -> None:\n",
    "        self.x = x\n",
    "        self.y = y\n",
    "    \n",
    "class line():\n",
    "    def __init__(self, p1: point, p2: point) -> None:\n",
    "        self.p1 = p1\n",
    "        self.p2 = p2\n",
    "        \n",
    "    def slope(self) -> float:\n",
    "        return (self.p2.y - self.p1.y) / (self.p2.x - self.p1.x)\n",
    "    \n",
    "    def length(self) -> float:\n",
    "        return sqrt((self.p2.y - self.p1.y)**2 + (self.p2.x - self.p1.x)**2)"
   ]
  },
  {
   "cell_type": "code",
   "execution_count": 56,
   "id": "d6671769",
   "metadata": {},
   "outputs": [
    {
     "data": {
      "text/plain": [
       "2.23606797749979"
      ]
     },
     "execution_count": 56,
     "metadata": {},
     "output_type": "execute_result"
    }
   ],
   "source": [
    "line_pract = line(point(1,1), point(3,2))\n",
    "\n",
    "line_pract.slope()\n",
    "\n",
    "line_pract.length()"
   ]
  }
 ],
 "metadata": {
  "kernelspec": {
   "display_name": "Python 3 (ipykernel)",
   "language": "python",
   "name": "python3"
  },
  "language_info": {
   "codemirror_mode": {
    "name": "ipython",
    "version": 3
   },
   "file_extension": ".py",
   "mimetype": "text/x-python",
   "name": "python",
   "nbconvert_exporter": "python",
   "pygments_lexer": "ipython3",
   "version": "3.9.15"
  }
 },
 "nbformat": 4,
 "nbformat_minor": 5
}
