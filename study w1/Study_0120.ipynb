{
 "cells": [
  {
   "cell_type": "markdown",
   "id": "553b961a",
   "metadata": {},
   "source": [
    "Quiz 1"
   ]
  },
  {
   "cell_type": "code",
   "execution_count": 4,
   "id": "c95c1272",
   "metadata": {},
   "outputs": [
    {
     "name": "stdout",
     "output_type": "stream",
     "text": [
      "4.5\n",
      "4.5\n",
      "4\n",
      "4\n",
      "4\n",
      "4\n",
      "9/2\n"
     ]
    }
   ],
   "source": [
    "#2\n",
    "\n",
    "print(9/2)\n",
    "\n",
    "print(9.0/2)\n",
    "\n",
    "print(int(9/2))\n",
    "\n",
    "print(round(9/2))\n",
    "\n",
    "print(round(7/2))\n",
    "\n",
    "#round()는 사사오입 원칙을 따른다. 반올림할 자리의 수가 5이면 반올림 할 때 앞자리의 숫자가 짝수면 내림하고 홀수면 올림 한다.\n",
    "\n",
    "print(\"9/2\")"
   ]
  },
  {
   "cell_type": "code",
   "execution_count": 6,
   "id": "49ba2cb6",
   "metadata": {},
   "outputs": [
    {
     "data": {
      "text/plain": [
       "'H20H20H20'"
      ]
     },
     "execution_count": 6,
     "metadata": {},
     "output_type": "execute_result"
    }
   ],
   "source": [
    "#3\n",
    "\n",
    "'H20'*3\n",
    "\n",
    "#type('H2O')"
   ]
  },
  {
   "cell_type": "code",
   "execution_count": 9,
   "id": "442d98e7",
   "metadata": {},
   "outputs": [
    {
     "data": {
      "text/plain": [
       "-157"
      ]
     },
     "execution_count": 9,
     "metadata": {},
     "output_type": "execute_result"
    }
   ],
   "source": [
    "#4\n",
    "\n",
    "5 - 2 * 3 ** 4"
   ]
  },
  {
   "cell_type": "code",
   "execution_count": 11,
   "id": "0c138309",
   "metadata": {},
   "outputs": [
    {
     "data": {
      "text/plain": [
       "88.33333333333333"
      ]
     },
     "execution_count": 11,
     "metadata": {},
     "output_type": "execute_result"
    }
   ],
   "source": [
    "#5\n",
    "\n",
    "def average_grade(a,b,c):\n",
    "    \n",
    "    return (a+b+c)/3\n",
    "\n",
    "average_grade(80,95,90)"
   ]
  },
  {
   "cell_type": "code",
   "execution_count": 27,
   "id": "53b9303f",
   "metadata": {},
   "outputs": [
    {
     "name": "stdout",
     "output_type": "stream",
     "text": [
      "3\n"
     ]
    }
   ],
   "source": [
    "#6\n",
    "\n",
    "def a():\n",
    "    return 1\n",
    "\n",
    "def b():\n",
    "    x = a()\n",
    "    return x + 1\n",
    "\n",
    "def c(x):\n",
    "    return b() + x\n",
    "\n",
    "print(c(1))"
   ]
  },
  {
   "cell_type": "code",
   "execution_count": 12,
   "id": "9bd2b638",
   "metadata": {},
   "outputs": [
    {
     "data": {
      "text/plain": [
       "4"
      ]
     },
     "execution_count": 12,
     "metadata": {},
     "output_type": "execute_result"
    }
   ],
   "source": [
    "#7\n",
    "\n",
    "abs(min(-4,6,max(2,8)))"
   ]
  },
  {
   "cell_type": "code",
   "execution_count": 30,
   "id": "38783bc5",
   "metadata": {},
   "outputs": [
    {
     "data": {
      "text/plain": [
       "104.0"
      ]
     },
     "execution_count": 30,
     "metadata": {},
     "output_type": "execute_result"
    }
   ],
   "source": [
    "#8\n",
    "\n",
    "def c_to_f(x):\n",
    "    \n",
    "    y = 1.8 * x + 32\n",
    "    \n",
    "    return y\n",
    "\n",
    "c_to_f(40)"
   ]
  },
  {
   "cell_type": "markdown",
   "id": "267d323f",
   "metadata": {},
   "source": [
    "Quiz 2"
   ]
  },
  {
   "cell_type": "code",
   "execution_count": 39,
   "id": "ea79f126",
   "metadata": {},
   "outputs": [
    {
     "name": "stdout",
     "output_type": "stream",
     "text": [
      "3.03.03.03.03.0\n",
      "15\n",
      "<class 'int'>\n",
      "15.0\n",
      "<class 'float'>\n",
      "15\n",
      "<class 'str'>\n",
      "15.0\n",
      "<class 'str'>\n"
     ]
    }
   ],
   "source": [
    "#1\n",
    "\n",
    "print('3.0' * 5)\n",
    "\n",
    "print(3 * 5)\n",
    "print(type(3 * 5))\n",
    "\n",
    "print(3.0 * 5)\n",
    "print(type(3.0 * 5))\n",
    "\n",
    "print(str(3 * 5))\n",
    "print(type(str(3 * 5)))\n",
    "\n",
    "print(str(3.0 * 5))\n",
    "print(type(str(3.0 * 5)))"
   ]
  },
  {
   "cell_type": "code",
   "execution_count": 62,
   "id": "b254919a",
   "metadata": {},
   "outputs": [
    {
     "name": "stdout",
     "output_type": "stream",
     "text": [
      "True\n",
      "True\n",
      "True\n",
      "False\n",
      "True\n",
      "True\n",
      "True\n",
      "A: 65 a: 97\n"
     ]
    }
   ],
   "source": [
    "#2\n",
    "\n",
    "print('abc' < 'abd')\n",
    "\n",
    "print('SD' in 'GSDS')\n",
    "\n",
    "print(\"\" in 'abc')\n",
    "\n",
    "print('abcd' < 'abc')\n",
    "\n",
    "print(\"A\" < 'B')\n",
    "\n",
    "print(ord('c') < ord('d'))\n",
    "\n",
    "#참고\n",
    "print('A' < 'a')\n",
    "\n",
    "print('A:',ord('A'),'a:',ord('a'))"
   ]
  },
  {
   "cell_type": "code",
   "execution_count": 16,
   "id": "1c433b0e",
   "metadata": {},
   "outputs": [
    {
     "name": "stdout",
     "output_type": "stream",
     "text": [
      "ender your number, id: 2\n",
      "enter:  3\n"
     ]
    },
    {
     "ename": "TypeError",
     "evalue": "'str' object is not callable",
     "output_type": "error",
     "traceback": [
      "\u001b[1;31m---------------------------------------------------------------------------\u001b[0m",
      "\u001b[1;31mTypeError\u001b[0m                                 Traceback (most recent call last)",
      "Cell \u001b[1;32mIn[16], line 3\u001b[0m\n\u001b[0;32m      1\u001b[0m \u001b[38;5;66;03m#3\u001b[39;00m\n\u001b[1;32m----> 3\u001b[0m gsds, x \u001b[38;5;241m=\u001b[39m \u001b[38;5;28mmap\u001b[39m(\u001b[38;5;28minput\u001b[39m(\u001b[38;5;124m\"\u001b[39m\u001b[38;5;124mender your number, id: \u001b[39m\u001b[38;5;124m\"\u001b[39m), \u001b[38;5;28minput\u001b[39m(\u001b[38;5;124m\"\u001b[39m\u001b[38;5;124menter:  \u001b[39m\u001b[38;5;124m\"\u001b[39m))\n\u001b[0;32m      5\u001b[0m \u001b[38;5;28mprint\u001b[39m(x)\n\u001b[0;32m      6\u001b[0m \u001b[38;5;28mprint\u001b[39m(gsds)\n",
      "\u001b[1;31mTypeError\u001b[0m: 'str' object is not callable"
     ]
    }
   ],
   "source": [
    "#3\n",
    "\n",
    "gsds, x = map(input(\"ender your number, id: \"))\n",
    "\n",
    "print(x)\n",
    "print(gsds)\n",
    "\n",
    "#print(int(gsds) * 4)"
   ]
  },
  {
   "cell_type": "code",
   "execution_count": 91,
   "id": "0c313890",
   "metadata": {},
   "outputs": [
    {
     "name": "stdout",
     "output_type": "stream",
     "text": [
      "False\n",
      "True\n"
     ]
    }
   ],
   "source": [
    "#4\n",
    "\n",
    "data = False\n",
    "science = 1\n",
    "\n",
    "print(not(data or science))\n",
    "\n",
    "print(not(data and science))"
   ]
  },
  {
   "cell_type": "code",
   "execution_count": 18,
   "id": "d362998b",
   "metadata": {},
   "outputs": [],
   "source": [
    "#5\n",
    "\n",
    "#!pip install pandas\n",
    "\n",
    "import pandas as pd"
   ]
  },
  {
   "cell_type": "code",
   "execution_count": null,
   "id": "68bfe059",
   "metadata": {},
   "outputs": [],
   "source": [
    "from math import sqrt"
   ]
  },
  {
   "cell_type": "code",
   "execution_count": 21,
   "id": "aaa38370",
   "metadata": {},
   "outputs": [
    {
     "name": "stdout",
     "output_type": "stream",
     "text": [
      "-4\n",
      "-3\n",
      "3\n",
      "4\n"
     ]
    }
   ],
   "source": [
    "#6\n",
    "\n",
    "import math as mt\n",
    "\n",
    "print(mt.floor(-3.3))\n",
    "\n",
    "print(mt.ceil(-3.3))\n",
    "\n",
    "print(mt.floor(3.3))\n",
    "\n",
    "print(mt.ceil(3.3))"
   ]
  },
  {
   "cell_type": "code",
   "execution_count": 90,
   "id": "bb18484b",
   "metadata": {},
   "outputs": [
    {
     "name": "stdout",
     "output_type": "stream",
     "text": [
      "1\n",
      "111\n"
     ]
    }
   ],
   "source": [
    "#7\n",
    "\n",
    "print('HELLOhello'.count('o'))\n",
    "\n",
    "print(ord('o'))"
   ]
  },
  {
   "cell_type": "markdown",
   "id": "a7708154",
   "metadata": {},
   "source": [
    "Quiz 3"
   ]
  },
  {
   "cell_type": "code",
   "execution_count": 31,
   "id": "fe3ff22b",
   "metadata": {},
   "outputs": [
    {
     "data": {
      "text/plain": [
       "14"
      ]
     },
     "execution_count": 31,
     "metadata": {},
     "output_type": "execute_result"
    }
   ],
   "source": [
    "#1\n",
    "a = 14\n",
    "\n",
    "example = [a, 12, \"OM\", 10]\n",
    "\n",
    "type(example)\n",
    "\n",
    "example[0]"
   ]
  },
  {
   "cell_type": "code",
   "execution_count": 33,
   "id": "2bfa13c8",
   "metadata": {},
   "outputs": [
    {
     "name": "stdout",
     "output_type": "stream",
     "text": [
      "[0, 4, 1, 8, 2, 6]\n",
      "[0, 1, 2, 4, 6, 8]\n",
      "4\n",
      "0\n",
      "[0, 1, 2, 4, 6, 8, 1, 2, 3]\n",
      "[0, 1, 2, 4, 6, 8, 1, 2, 3, [1, 2, 3]]\n"
     ]
    },
    {
     "ename": "TypeError",
     "evalue": "list.append() takes exactly one argument (3 given)",
     "output_type": "error",
     "traceback": [
      "\u001b[1;31m---------------------------------------------------------------------------\u001b[0m",
      "\u001b[1;31mTypeError\u001b[0m                                 Traceback (most recent call last)",
      "Cell \u001b[1;32mIn[33], line 21\u001b[0m\n\u001b[0;32m     18\u001b[0m numbers\u001b[38;5;241m.\u001b[39mappend([\u001b[38;5;241m1\u001b[39m,\u001b[38;5;241m2\u001b[39m,\u001b[38;5;241m3\u001b[39m])\n\u001b[0;32m     19\u001b[0m \u001b[38;5;28mprint\u001b[39m(numbers)\n\u001b[1;32m---> 21\u001b[0m \u001b[43mnumbers\u001b[49m\u001b[38;5;241;43m.\u001b[39;49m\u001b[43mappend\u001b[49m\u001b[43m(\u001b[49m\u001b[38;5;241;43m1\u001b[39;49m\u001b[43m,\u001b[49m\u001b[38;5;241;43m2\u001b[39;49m\u001b[43m,\u001b[49m\u001b[38;5;241;43m3\u001b[39;49m\u001b[43m)\u001b[49m\n",
      "\u001b[1;31mTypeError\u001b[0m: list.append() takes exactly one argument (3 given)"
     ]
    }
   ],
   "source": [
    "#2\n",
    "\n",
    "numbers = [0,4,1,2,6]\n",
    "\n",
    "numbers.insert(3,8)\n",
    "print(numbers)\n",
    "\n",
    "numbers.sort(reverse = False)\n",
    "print(numbers)\n",
    "\n",
    "numbers.index(4)\n",
    "print(numbers.index(6))\n",
    "print(numbers.index(0))\n",
    "\n",
    "numbers.extend([1,2,3])\n",
    "print(numbers)\n",
    "\n",
    "numbers.append([1,2,3])\n",
    "print(numbers)\n",
    "\n",
    "numbers.append(1,2,3)\n",
    "\n",
    "#append method is used to add single element to list vs. extend method is used to add multiple element to list"
   ]
  },
  {
   "cell_type": "code",
   "execution_count": 41,
   "id": "aec5e87b",
   "metadata": {},
   "outputs": [
    {
     "name": "stdout",
     "output_type": "stream",
     "text": [
      "[1, 2, 3]\n",
      "3\n",
      "1\n",
      "[4, 5, 6]\n",
      "6\n",
      "4\n",
      "[7, 8, 9]\n",
      "9\n",
      "7\n",
      "[3, 1, 6, 4, 9, 7]\n"
     ]
    }
   ],
   "source": [
    "#3\n",
    "\n",
    "list_a = [[1,2,3],[4,5,6],[7,8,9]]\n",
    "\n",
    "answer = []\n",
    "\n",
    "for i in list_a:\n",
    "    print(i)\n",
    "    for j in i[::-2]:\n",
    "        print(j)\n",
    "        answer.append(j)\n",
    "        \n",
    "print(answer)\n",
    "\n",
    "#[start:stop:step], skips one element for every two elements (reverse if '-')"
   ]
  },
  {
   "cell_type": "code",
   "execution_count": 35,
   "id": "0e5a8240",
   "metadata": {
    "scrolled": true
   },
   "outputs": [
    {
     "name": "stdout",
     "output_type": "stream",
     "text": [
      "right answer\n",
      "0 4\n",
      "1 8\n",
      "2 12\n",
      "wrong answer 1\n",
      "[1, 2, 3, 4]\n",
      "0 4\n",
      "1 4\n",
      "2 4\n",
      "3 4\n",
      "[5, 6, 7, 8]\n",
      "0 8\n",
      "1 8\n",
      "2 8\n",
      "3 8\n",
      "[9, 10, 11, 12]\n",
      "0 12\n",
      "1 12\n",
      "2 12\n",
      "3 12\n"
     ]
    }
   ],
   "source": [
    "#4\n",
    "\n",
    "stock_data = [[1,2,3,4],[5,6,7,8],[9,10,11,12]]\n",
    "\n",
    "print(\"right answer\")\n",
    "\n",
    "for company in stock_data:\n",
    "    #print(company)\n",
    "    print(stock_data.index(company), company[-1])\n",
    "    \n",
    "print(\"wrong answer 1\")\n",
    "    \n",
    "for company in stock_data:\n",
    "    print(company)\n",
    "    for index in range(len(company)):\n",
    "        print(index, company[-1])"
   ]
  },
  {
   "cell_type": "code",
   "execution_count": 131,
   "id": "e9982e73",
   "metadata": {},
   "outputs": [
    {
     "name": "stdout",
     "output_type": "stream",
     "text": [
      "wrong answer 2\n",
      "[1, 2, 3, 4] 1\n",
      "[1, 2, 3, 4] 2\n",
      "[1, 2, 3, 4] 3\n",
      "[1, 2, 3, 4] 4\n",
      "[5, 6, 7, 8] 5\n",
      "[5, 6, 7, 8] 6\n",
      "[5, 6, 7, 8] 7\n",
      "[5, 6, 7, 8] 8\n",
      "[9, 10, 11, 12] 9\n",
      "[9, 10, 11, 12] 10\n",
      "[9, 10, 11, 12] 11\n",
      "[9, 10, 11, 12] 12\n"
     ]
    }
   ],
   "source": [
    "print(\"wrong answer 2\")\n",
    "    \n",
    "for company in stock_data:\n",
    "    for close in company:\n",
    "        print(company, close)"
   ]
  },
  {
   "cell_type": "code",
   "execution_count": 134,
   "id": "66a62de6",
   "metadata": {},
   "outputs": [
    {
     "name": "stdout",
     "output_type": "stream",
     "text": [
      "wrong answer 3\n"
     ]
    },
    {
     "ename": "TypeError",
     "evalue": "index expected at least 1 argument, got 0",
     "output_type": "error",
     "traceback": [
      "\u001b[1;31m---------------------------------------------------------------------------\u001b[0m",
      "\u001b[1;31mTypeError\u001b[0m                                 Traceback (most recent call last)",
      "Cell \u001b[1;32mIn[134], line 5\u001b[0m\n\u001b[0;32m      3\u001b[0m \u001b[38;5;28;01mfor\u001b[39;00m company \u001b[38;5;129;01min\u001b[39;00m stock_data:\n\u001b[0;32m      4\u001b[0m     \u001b[38;5;28;01mfor\u001b[39;00m close \u001b[38;5;129;01min\u001b[39;00m company:\n\u001b[1;32m----> 5\u001b[0m         \u001b[38;5;28mprint\u001b[39m(\u001b[43mcompany\u001b[49m\u001b[38;5;241;43m.\u001b[39;49m\u001b[43mindex\u001b[49m\u001b[43m(\u001b[49m\u001b[43m)\u001b[49m, close)\n",
      "\u001b[1;31mTypeError\u001b[0m: index expected at least 1 argument, got 0"
     ]
    }
   ],
   "source": [
    "print(\"wrong answer 3\")\n",
    "    \n",
    "for company in stock_data:\n",
    "    for close in company:\n",
    "        print(company.index(), close)"
   ]
  },
  {
   "cell_type": "code",
   "execution_count": 141,
   "id": "dc643342",
   "metadata": {},
   "outputs": [
    {
     "name": "stdout",
     "output_type": "stream",
     "text": [
      "wrong answer 4\n",
      "[9, 10, 11, 12] 12\n",
      "[5, 6, 7, 8] 8\n",
      "[1, 2, 3, 4] 4\n"
     ]
    }
   ],
   "source": [
    "print(\"wrong answer 4\")\n",
    "\n",
    "while stock_data:\n",
    "    company = stock_data.pop()\n",
    "    print(company, company[-1])\n",
    "\n",
    "#pop: removes last times in the list"
   ]
  },
  {
   "cell_type": "code",
   "execution_count": 144,
   "id": "8c819774",
   "metadata": {},
   "outputs": [
    {
     "name": "stdout",
     "output_type": "stream",
     "text": [
      "0 4\n",
      "1 8\n",
      "2 12\n"
     ]
    }
   ],
   "source": [
    "#alternative answer\n",
    "\n",
    "i = 0 \n",
    "while stock_data:\n",
    "    company = stock_data.pop(0)\n",
    "    print(i, company[-1])\n",
    "    i = i + 1"
   ]
  },
  {
   "cell_type": "code",
   "execution_count": 49,
   "id": "122c3bf6",
   "metadata": {},
   "outputs": [
    {
     "name": "stdout",
     "output_type": "stream",
     "text": [
      "1\n",
      "['abc', [1, 2, 3, 4]]\n",
      "abc -1 -3\n",
      "['def', [5, 6, 7, 8]]\n",
      "def -1 -3\n"
     ]
    }
   ],
   "source": [
    "#5\n",
    "\n",
    "stock = [['abc', [1,2,3,4]],['def',[5,6,7,8]]]\n",
    "\n",
    "print(stock[0][1][0])\n",
    "\n",
    "for com in stock:\n",
    "    print(com)\n",
    "    print(com[0], com[1][1] - com[1][2], com[1][0] - com[1][-1])"
   ]
  },
  {
   "cell_type": "code",
   "execution_count": 50,
   "id": "02da1b09",
   "metadata": {},
   "outputs": [
    {
     "name": "stdout",
     "output_type": "stream",
     "text": [
      "def -1 -3\n",
      "abc -1 -3\n"
     ]
    }
   ],
   "source": [
    "while stock:\n",
    "    com = stock.pop()\n",
    "    print(com[0], com[1][1] - com[1][2], com[1][0] -com[1][-1])"
   ]
  },
  {
   "cell_type": "code",
   "execution_count": 59,
   "id": "48646a6e",
   "metadata": {},
   "outputs": [
    {
     "name": "stdout",
     "output_type": "stream",
     "text": [
      "exa [1, 2, 3, 4, 5]\n",
      "exb {1, 2, 3, 4, 5}\n",
      "5\n",
      "[2]\n",
      "[1, 3, 5]\n",
      "{1, 2, 3, 4, 5}\n",
      "{1, 2, 3, 4, 5, 'abc'}\n",
      "{1, 2, 3, 4, 5, 'xyz', 'abc', 'wyk'}\n"
     ]
    }
   ],
   "source": [
    "#6\n",
    "\n",
    "exa = list([1,2,3,4,5])\n",
    "print(\"exa\", exa)\n",
    "\n",
    "exb = set([1,2,3,4,5,1])\n",
    "print(\"exb\", exb)\n",
    "\n",
    "print(exa[-1])\n",
    "\n",
    "print(exa[1:3:2])\n",
    "print(exa[0:5:2])\n",
    "\n",
    "exb.add(1)\n",
    "print(exb)\n",
    "#already have, no effect\n",
    "\n",
    "exb.add('abc')\n",
    "print(exb)\n",
    "\n",
    "exc = [\"xyz\", \"wyk\"]\n",
    "#alternative\n",
    "exb.update(exc)\n",
    "print(exb)\n",
    "\n",
    "#exa.add(1)\n",
    "#print(exa)\n",
    "\n",
    "#add method used to add single element to set, multiple element use \"update\""
   ]
  },
  {
   "cell_type": "code",
   "execution_count": 175,
   "id": "aa58f78a",
   "metadata": {},
   "outputs": [
    {
     "name": "stdout",
     "output_type": "stream",
     "text": [
      "False\n",
      "{10, 6}\n",
      "{1, 2, 3, 4, 5, 8, 9}\n",
      "{8, 2, 4}\n",
      "{1, 2, 3, 4, 5, 6, 8, 9, 10}\n"
     ]
    }
   ],
   "source": [
    "#7\n",
    "\n",
    "seta = set([2,4,6,8,10])\n",
    "\n",
    "setb = set([1,3,5,6,9,10])\n",
    "\n",
    "#부분집합 여부\n",
    "print(seta.issubset(setb))\n",
    "\n",
    "#교집합\n",
    "print(setb.intersection(seta))\n",
    "\n",
    "#대칭 차집합\n",
    "print(seta.symmetric_difference(setb))\n",
    "\n",
    "#차집합\n",
    "print(seta.difference(setb))\n",
    "\n",
    "#합집합\n",
    "print(seta.union(setb))"
   ]
  },
  {
   "cell_type": "code",
   "execution_count": 61,
   "id": "b6f4b09a",
   "metadata": {},
   "outputs": [
    {
     "name": "stdout",
     "output_type": "stream",
     "text": [
      "dict_keys(['a', 'b', 'c'])\n",
      "dict_values(['A', 'B', 'C'])\n",
      "A\n",
      "d\n",
      "A\n",
      "d\n",
      "d\n",
      "dict_items([('a', 'A'), ('b', 'B'), ('c', 'C')])\n"
     ]
    }
   ],
   "source": [
    "#8\n",
    "\n",
    "ex_dict = {'a':'A', 'b':'B', 'c':'C'}\n",
    "\n",
    "print(ex_dict.keys())\n",
    "print(ex_dict.values())\n",
    "\n",
    "#get function\n",
    "print(ex_dict.get('a'))\n",
    "print(ex_dict.get('c X', 'd'))\n",
    "\n",
    "print(ex_dict.setdefault('a', 'G'))\n",
    "print(ex_dict.setdefault('c X', 'd'))\n",
    "\n",
    "print(ex_dict.pop('c X', 'f'))\n",
    "#pop the key not value\n",
    "\n",
    "print(ex_dict.items())"
   ]
  },
  {
   "cell_type": "code",
   "execution_count": 198,
   "id": "7b2b98a5",
   "metadata": {},
   "outputs": [
    {
     "name": "stdout",
     "output_type": "stream",
     "text": [
      "B\n",
      "C\n",
      "03\n",
      "{'a': 'A', 'b': 'B', 'c': 'C'}\n",
      "dict_values([[1, 2, 3], '03:45'])\n"
     ]
    }
   ],
   "source": [
    "#9\n",
    "\n",
    "ex_dict2 = {'3':ex_dict, 'exp': [1,2,3], 'quiz':'03:45'}\n",
    "\n",
    "print(ex_dict2.setdefault('3').get('b'))\n",
    "\n",
    "print(ex_dict2.get('3')['c'])\n",
    "\n",
    "print(ex_dict2.get('quiz')[0:2])\n",
    "\n",
    "print(ex_dict2.pop('3'))\n",
    "\n",
    "print(ex_dict2.values())"
   ]
  },
  {
   "cell_type": "code",
   "execution_count": 62,
   "id": "8c8620b5",
   "metadata": {},
   "outputs": [],
   "source": [
    "#10\n",
    "\n",
    "grade_tup_tup = (('a',90,'A'),('b', 85, 'B'),('c', 75, 'C'))\n",
    "grade_list_tup = [('a',90,'A'),('b', 85, 'B'),('c', 75, 'C')]\n",
    "grade_list_list = [['a',90,'A'],['b', 85, 'B'],['c', 75, 'C']]\n",
    "grade_tup_list = (['a',90,'A'],['b', 85, 'B'],['c', 75, 'C'])"
   ]
  },
  {
   "cell_type": "code",
   "execution_count": 63,
   "id": "1b383366",
   "metadata": {},
   "outputs": [
    {
     "ename": "TypeError",
     "evalue": "'tuple' object does not support item assignment",
     "output_type": "error",
     "traceback": [
      "\u001b[1;31m---------------------------------------------------------------------------\u001b[0m",
      "\u001b[1;31mTypeError\u001b[0m                                 Traceback (most recent call last)",
      "Cell \u001b[1;32mIn[63], line 1\u001b[0m\n\u001b[1;32m----> 1\u001b[0m grade_tup_tup[\u001b[38;5;241m0\u001b[39m][\u001b[38;5;241m1\u001b[39m] \u001b[38;5;241m=\u001b[39m \u001b[38;5;241m10\u001b[39m\n",
      "\u001b[1;31mTypeError\u001b[0m: 'tuple' object does not support item assignment"
     ]
    }
   ],
   "source": [
    "grade_tup_tup[0][1] = 10\n",
    "\n",
    "#tuple assignment X"
   ]
  },
  {
   "cell_type": "code",
   "execution_count": 204,
   "id": "9cf2d2f2",
   "metadata": {},
   "outputs": [
    {
     "ename": "TypeError",
     "evalue": "'tuple' object does not support item assignment",
     "output_type": "error",
     "traceback": [
      "\u001b[1;31m---------------------------------------------------------------------------\u001b[0m",
      "\u001b[1;31mTypeError\u001b[0m                                 Traceback (most recent call last)",
      "Cell \u001b[1;32mIn[204], line 1\u001b[0m\n\u001b[1;32m----> 1\u001b[0m grade_list_tup[\u001b[38;5;241m0\u001b[39m][\u001b[38;5;241m1\u001b[39m] \u001b[38;5;241m=\u001b[39m \u001b[38;5;124m'\u001b[39m\u001b[38;5;124m3\u001b[39m\u001b[38;5;124m'\u001b[39m\n",
      "\u001b[1;31mTypeError\u001b[0m: 'tuple' object does not support item assignment"
     ]
    }
   ],
   "source": [
    "grade_list_tup[0][1] = '3'"
   ]
  },
  {
   "cell_type": "code",
   "execution_count": 213,
   "id": "ffa4bf9e",
   "metadata": {},
   "outputs": [],
   "source": [
    "#grade_tup_list[1] = ('d', 80, 'D')\n",
    "\n",
    "grade_list_tup[1] = ('d', 80, 'D')\n",
    "\n",
    "grade_list_tup[1] = ['d', 80, 'D']"
   ]
  }
 ],
 "metadata": {
  "kernelspec": {
   "display_name": "Python 3 (ipykernel)",
   "language": "python",
   "name": "python3"
  },
  "language_info": {
   "codemirror_mode": {
    "name": "ipython",
    "version": 3
   },
   "file_extension": ".py",
   "mimetype": "text/x-python",
   "name": "python",
   "nbconvert_exporter": "python",
   "pygments_lexer": "ipython3",
   "version": "3.9.15"
  }
 },
 "nbformat": 4,
 "nbformat_minor": 5
}
