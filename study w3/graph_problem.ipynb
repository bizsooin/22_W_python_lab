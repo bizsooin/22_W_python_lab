{
 "cells": [
  {
   "cell_type": "code",
   "execution_count": 1,
   "id": "2d59577b",
   "metadata": {},
   "outputs": [],
   "source": [
    "V = [0,1,2,3,4,5,6,7,8,9]\n",
    "E = [(0,1), (1,4), (1,5), (4,6), (5,6), (5,7), (7,8), (6,9), (2,3)]"
   ]
  },
  {
   "cell_type": "code",
   "execution_count": 2,
   "id": "9dc1586d",
   "metadata": {},
   "outputs": [],
   "source": [
    "from collections import deque"
   ]
  },
  {
   "cell_type": "code",
   "execution_count": 3,
   "id": "f66237b2",
   "metadata": {},
   "outputs": [],
   "source": [
    "class undi_graph():\n",
    "    \n",
    "    def __init__(self, V:list, E:list) -> None:\n",
    "        self.V = V[:]\n",
    "        self.neighbor = {}\n",
    "        \n",
    "        for v in V:\n",
    "            self.neighbor[v] = []\n",
    "        \n",
    "        for (v, w) in E:\n",
    "            self.neighbor[v].append(w)\n",
    "            self.neighbor[w].append(v)\n",
    "    \n",
    "    \n",
    "    def __DFTHelp(self, visited: list, v: int) -> None:\n",
    "        if not visited[v]:\n",
    "            visited[v] = True\n",
    "            \n",
    "            for w in self.neighbor[v]:\n",
    "                self.__DFTHelp(visited, w)\n",
    "                \n",
    "            print(v)\n",
    "    \n",
    "    def DFT(self) -> None:\n",
    "        if self.V:\n",
    "            visited = {}\n",
    "            \n",
    "            for v in self.V:\n",
    "                visited[v] = False\n",
    "            \n",
    "            for v in self.V:\n",
    "                self.__DFTHelp(visited, v)\n",
    "    \n",
    "    \n",
    "    def BFT(self) -> None:\n",
    "        if self.V:\n",
    "            visited = {}\n",
    "            \n",
    "            for v in self.V:\n",
    "                visited[v] = False\n",
    "            \n",
    "            q = []\n",
    "            \n",
    "            for v in self.V:\n",
    "                q.append(v)\n",
    "                \n",
    "                while q:\n",
    "                    v = q.pop(0)\n",
    "                    if not visited[v]:\n",
    "                        visited[v] = True\n",
    "                        print(v)\n",
    "                        \n",
    "                        for w in self.neighbor[v]:\n",
    "                            q.append(w)\n",
    "                        \n",
    "                        #print(q)"
   ]
  },
  {
   "cell_type": "code",
   "execution_count": 4,
   "id": "718216e6",
   "metadata": {},
   "outputs": [],
   "source": [
    "myGraph = undi_graph(V,E)"
   ]
  },
  {
   "cell_type": "code",
   "execution_count": 5,
   "id": "ee01aaa3",
   "metadata": {},
   "outputs": [
    {
     "name": "stdout",
     "output_type": "stream",
     "text": [
      "8\n",
      "7\n",
      "5\n",
      "9\n",
      "6\n",
      "4\n",
      "1\n",
      "0\n",
      "3\n",
      "2\n"
     ]
    }
   ],
   "source": [
    "myGraph.DFT()"
   ]
  },
  {
   "cell_type": "code",
   "execution_count": 6,
   "id": "76ad2de7",
   "metadata": {},
   "outputs": [
    {
     "name": "stdout",
     "output_type": "stream",
     "text": [
      "0\n",
      "1\n",
      "4\n",
      "5\n",
      "6\n",
      "7\n",
      "9\n",
      "8\n",
      "2\n",
      "3\n"
     ]
    }
   ],
   "source": [
    "myGraph.BFT()"
   ]
  }
 ],
 "metadata": {
  "kernelspec": {
   "display_name": "Python 3 (ipykernel)",
   "language": "python",
   "name": "python3"
  },
  "language_info": {
   "codemirror_mode": {
    "name": "ipython",
    "version": 3
   },
   "file_extension": ".py",
   "mimetype": "text/x-python",
   "name": "python",
   "nbconvert_exporter": "python",
   "pygments_lexer": "ipython3",
   "version": "3.9.15"
  }
 },
 "nbformat": 4,
 "nbformat_minor": 5
}
