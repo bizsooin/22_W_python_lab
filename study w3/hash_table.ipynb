{
 "cells": [
  {
   "cell_type": "code",
   "execution_count": 5,
   "id": "f9506d3e",
   "metadata": {},
   "outputs": [],
   "source": [
    "def majorityElement(nums: list) -> int:\n",
    "    myD = {}\n",
    "    \n",
    "    for num in nums:\n",
    "        if num in myD:\n",
    "            myD[num] += 1\n",
    "            if myD[num] >= len(nums) // 2:\n",
    "                return num\n",
    "        \n",
    "        else:\n",
    "            myD[num] = 1"
   ]
  },
  {
   "cell_type": "code",
   "execution_count": 76,
   "id": "eca71f97",
   "metadata": {},
   "outputs": [
    {
     "data": {
      "text/plain": [
       "9"
      ]
     },
     "execution_count": 76,
     "metadata": {},
     "output_type": "execute_result"
    }
   ],
   "source": [
    "t_list = [2,4,1,7,9,1,3,9,9,9,9]\n",
    "\n",
    "majorityElement(t_list)"
   ]
  },
  {
   "cell_type": "code",
   "execution_count": 61,
   "id": "67ca2181",
   "metadata": {},
   "outputs": [],
   "source": [
    "class OpenHash_int:\n",
    "    def __init__(self, table_size):\n",
    "        self.size = table_size\n",
    "        self.hash_table = [0 for a in range(self.size)]\n",
    "        \n",
    "    def getKey(self, data):\n",
    "        self.key = data #ord를 data로 수정\n",
    "        return self.key\n",
    "    \n",
    "    def hashFunction(self, key):\n",
    "        return key % self.size\n",
    "\n",
    "    def getAddress(self, key):\n",
    "        myKey = self.getKey(key)\n",
    "        hash_address = self.hashFunction(myKey)\n",
    "        return hash_address\n",
    "    \n",
    "    def save(self, key, value):\n",
    "        hash_address = self.getAddress(key)\n",
    "        \n",
    "        if self.hash_table[hash_address] != 0:\n",
    "            for a in range(len(self.hash_table[hash_address])):\n",
    "                if self.hash_table[hash_address][a][0] == key:\n",
    "                    self.hash_table[hash_address][a][1] = value\n",
    "                    return\n",
    "            self.hash_table[hash_address].append([key, value])\n",
    "        else:\n",
    "            self.hash_table[hash_address] = [[key, value]]\n",
    "            \n",
    "    def read(self, key):\n",
    "        hash_address = self.getAddress(key)\n",
    "        \n",
    "        if self.hash_table[hash_address] != 0:\n",
    "            for a in range(len(self.hash_table[hash_address])):\n",
    "                if self.hash_table[hash_address][a][0] == key:\n",
    "                    return self.hash_table[hash_address][a][0]\n",
    "            return False\n",
    "        else:\n",
    "            return False\n",
    "    \n",
    "    def delete(self, key):\n",
    "        hash_address = self.getAddress(key)\n",
    "        \n",
    "        if self.hash_table[hash_address] != 0:\n",
    "            for a in range(len(self.hash_table[hash_address])):\n",
    "                if self.hash_table[hash_address][a][0] == key:\n",
    "                    if len(self.hash_table[hash_address]) == 1:\n",
    "                        self.hash_table[hash_address] = 0\n",
    "                    else:\n",
    "                        del self.hash_table[hash_address][a]\n",
    "                    return\n",
    "            return False\n",
    "        else:\n",
    "            return False\n",
    "        \n",
    "#참고: https://jinyes-tistory.tistory.com/11"
   ]
  },
  {
   "cell_type": "code",
   "execution_count": 65,
   "id": "c89f3f39",
   "metadata": {},
   "outputs": [],
   "source": [
    "#quiz 13-4\n",
    "\n",
    "mod = 10\n",
    "\n",
    "h_table = OpenHash_int(mod)\n",
    "\n",
    "h_table.save(4322, 4322)\n",
    "h_table.save(1334, 1334)\n",
    "h_table.save(1471, 1471)\n",
    "h_table.save(9697, 9697)\n",
    "h_table.save(1989, 1989)\n",
    "h_table.save(6171, 6171)\n",
    "h_table.save(6173, 6173)\n",
    "h_table.save(4199, 4199)"
   ]
  },
  {
   "cell_type": "code",
   "execution_count": 66,
   "id": "f53196cf",
   "metadata": {},
   "outputs": [
    {
     "name": "stdout",
     "output_type": "stream",
     "text": [
      "[0, [[1471, 1471], [6171, 6171]], [[4322, 4322]], [[6173, 6173]], [[1334, 1334]], 0, 0, [[9697, 9697]], 0, [[1989, 1989], [4199, 4199]]]\n"
     ]
    }
   ],
   "source": [
    "print(h_table.hash_table)"
   ]
  },
  {
   "cell_type": "code",
   "execution_count": 67,
   "id": "d1aa604f",
   "metadata": {},
   "outputs": [],
   "source": [
    "h_table.delete(6173)"
   ]
  },
  {
   "cell_type": "code",
   "execution_count": 68,
   "id": "4ef190c4",
   "metadata": {},
   "outputs": [
    {
     "name": "stdout",
     "output_type": "stream",
     "text": [
      "[0, [[1471, 1471], [6171, 6171]], [[4322, 4322]], 0, [[1334, 1334]], 0, 0, [[9697, 9697]], 0, [[1989, 1989], [4199, 4199]]]\n"
     ]
    }
   ],
   "source": [
    "print(h_table.hash_table)"
   ]
  },
  {
   "cell_type": "code",
   "execution_count": 69,
   "id": "9b922884",
   "metadata": {},
   "outputs": [
    {
     "data": {
      "text/plain": [
       "4199"
      ]
     },
     "execution_count": 69,
     "metadata": {},
     "output_type": "execute_result"
    }
   ],
   "source": [
    "h_table.read(4199)"
   ]
  }
 ],
 "metadata": {
  "kernelspec": {
   "display_name": "Python 3 (ipykernel)",
   "language": "python",
   "name": "python3"
  },
  "language_info": {
   "codemirror_mode": {
    "name": "ipython",
    "version": 3
   },
   "file_extension": ".py",
   "mimetype": "text/x-python",
   "name": "python",
   "nbconvert_exporter": "python",
   "pygments_lexer": "ipython3",
   "version": "3.9.15"
  }
 },
 "nbformat": 4,
 "nbformat_minor": 5
}
