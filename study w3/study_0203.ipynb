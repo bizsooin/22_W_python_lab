{
 "cells": [
  {
   "cell_type": "markdown",
   "id": "dfc2c90d",
   "metadata": {},
   "source": [
    "Quiz 11"
   ]
  },
  {
   "cell_type": "code",
   "execution_count": 1,
   "id": "2a3094c9",
   "metadata": {},
   "outputs": [],
   "source": [
    "class BTreeNode():\n",
    "    def __init__(self, x:int) -> None:\n",
    "        self.val = x\n",
    "        self.left = None\n",
    "        self.right = None"
   ]
  },
  {
   "cell_type": "code",
   "execution_count": 2,
   "id": "ceffeda7",
   "metadata": {},
   "outputs": [],
   "source": [
    "#quiz 11-1\n",
    "\n",
    "btree1 = BTreeNode(1)\n",
    "btree2 = BTreeNode(2)\n",
    "broot = BTreeNode(3)\n",
    "\n",
    "btree4 = BTreeNode(4)\n",
    "btree5 = BTreeNode(5)\n",
    "btree6 = BTreeNode(6)\n",
    "btree7 = BTreeNode(7)"
   ]
  },
  {
   "cell_type": "code",
   "execution_count": 3,
   "id": "1eb11e56",
   "metadata": {},
   "outputs": [],
   "source": [
    "broot.left = btree7\n",
    "broot.right = btree5\n",
    "\n",
    "btree7.left = btree2\n",
    "btree7.right = btree1\n",
    "\n",
    "btree5.left = btree6\n",
    "btree5.right = btree4"
   ]
  },
  {
   "cell_type": "code",
   "execution_count": 4,
   "id": "b93f6f56",
   "metadata": {},
   "outputs": [],
   "source": [
    "#Breadth-First traversal\n",
    "\n",
    "def traversal(root):\n",
    "    if root is None:\n",
    "        return\n",
    "    \n",
    "    queue = []\n",
    "    \n",
    "    queue.append(root)\n",
    "    \n",
    "    while (len(queue) > 0):\n",
    "        print(queue[0].val, end= '-')\n",
    "        node = queue.pop(0)\n",
    "        \n",
    "        if node.left is not None:\n",
    "            queue.append(node.left)\n",
    "        \n",
    "        if node.right is not None:\n",
    "            queue.append(node.right)\n",
    "        \n",
    "    print(\"end\")"
   ]
  },
  {
   "cell_type": "code",
   "execution_count": 5,
   "id": "d77756b9",
   "metadata": {},
   "outputs": [
    {
     "name": "stdout",
     "output_type": "stream",
     "text": [
      "3-7-5-2-1-6-4-end\n"
     ]
    }
   ],
   "source": [
    "traversal(broot)"
   ]
  },
  {
   "cell_type": "code",
   "execution_count": 11,
   "id": "0821689b",
   "metadata": {},
   "outputs": [],
   "source": [
    "#deep_first_traversal\n",
    "\n",
    "def deep_first_traversal(root):\n",
    "    if root is None:\n",
    "        return \n",
    "    \n",
    "    print(root.val, end = '-')\n",
    "    \n",
    "    deep_first_traversal(root.left)\n",
    "    \n",
    "    deep_first_traversal(root.right)"
   ]
  },
  {
   "cell_type": "code",
   "execution_count": 12,
   "id": "2217d6f7",
   "metadata": {},
   "outputs": [
    {
     "name": "stdout",
     "output_type": "stream",
     "text": [
      "3-7-2-1-5-6-4-"
     ]
    }
   ],
   "source": [
    "deep_first_traversal(broot)"
   ]
  },
  {
   "cell_type": "code",
   "execution_count": 32,
   "id": "86f5b0ce",
   "metadata": {},
   "outputs": [],
   "source": [
    "#pip install import_ipynb"
   ]
  },
  {
   "cell_type": "code",
   "execution_count": 1,
   "id": "e00db182",
   "metadata": {},
   "outputs": [],
   "source": [
    "import tree_test"
   ]
  },
  {
   "cell_type": "code",
   "execution_count": 2,
   "id": "65873784",
   "metadata": {},
   "outputs": [],
   "source": [
    "class TreeNode():\n",
    "    def __init__(self, x:int , k: int) -> None:\n",
    "        self.val = x\n",
    "        self.arity = k\n",
    "        self.child = [None]*k"
   ]
  },
  {
   "cell_type": "code",
   "execution_count": 3,
   "id": "d98dbbc4",
   "metadata": {},
   "outputs": [],
   "source": [
    "k = 3\n",
    "\n",
    "\n",
    "t_root = TreeNode(10, k)\n",
    "t_root.child[0] = TreeNode(5, k)\n",
    "t_root.child[1] = TreeNode(15, k)\n",
    "\n",
    "t_child1 = t_root.child[0]\n",
    "t_child1.child[0] = TreeNode(3, k)\n",
    "t_child1.child[1] = TreeNode(7, k)\n",
    "\n",
    "t_child11 = t_child1.child[0]\n",
    "t_child11.child[0] = TreeNode(1, k)\n",
    "\n",
    "t_child12 = t_child1.child[1]\n",
    "t_child12.child[0] = TreeNode(6, k)\n",
    "\n",
    "t_child2 = t_root.child[1]\n",
    "t_child2.child[1] = TreeNode(18, k)"
   ]
  },
  {
   "cell_type": "code",
   "execution_count": 4,
   "id": "dbab0bfe",
   "metadata": {},
   "outputs": [],
   "source": [
    "tree_instance = tree_test.Tree(t_root)"
   ]
  },
  {
   "cell_type": "code",
   "execution_count": 5,
   "id": "f587e021",
   "metadata": {},
   "outputs": [
    {
     "name": "stdout",
     "output_type": "stream",
     "text": [
      "1\n",
      "3\n",
      "5\n",
      "6\n",
      "7\n",
      "10\n",
      "15\n",
      "18\n"
     ]
    }
   ],
   "source": [
    "#quiz 11-3\n",
    "\n",
    "tree_instance.DFT_inorder()"
   ]
  },
  {
   "cell_type": "code",
   "execution_count": 6,
   "id": "d0cb46e1",
   "metadata": {},
   "outputs": [],
   "source": [
    "k = 3\n",
    "\n",
    "t_root = TreeNode(19, k)\n",
    "t_root.child[0] = TreeNode(16, k)\n",
    "t_root.child[1] = TreeNode(22, k)\n",
    "\n",
    "t_child1 = t_root.child[0]\n",
    "t_child1.child[1] = TreeNode(17, k)\n",
    "\n",
    "t_child2 = t_root.child[1]\n",
    "t_child2.child[0] = TreeNode(21, k)\n",
    "t_child2.child[1] = TreeNode(24, k)"
   ]
  },
  {
   "cell_type": "code",
   "execution_count": 7,
   "id": "f0ccf586",
   "metadata": {},
   "outputs": [],
   "source": [
    "tree_instance = tree_test.Tree(t_root)"
   ]
  },
  {
   "cell_type": "code",
   "execution_count": 8,
   "id": "7965905a",
   "metadata": {},
   "outputs": [
    {
     "name": "stdout",
     "output_type": "stream",
     "text": [
      "19\n",
      "16\n",
      "17\n",
      "22\n",
      "21\n",
      "24\n"
     ]
    }
   ],
   "source": [
    "#quiz 11-4\n",
    "\n",
    "tree_instance.DFT_preorder()"
   ]
  },
  {
   "cell_type": "code",
   "execution_count": 41,
   "id": "0a7c9c33",
   "metadata": {},
   "outputs": [
    {
     "name": "stdout",
     "output_type": "stream",
     "text": [
      "17\n",
      "16\n",
      "21\n",
      "24\n",
      "22\n",
      "19\n"
     ]
    }
   ],
   "source": [
    "#quiz 11-5\n",
    "\n",
    "tree_instance.DFT_postorder()"
   ]
  },
  {
   "cell_type": "markdown",
   "id": "8e4f57cd",
   "metadata": {},
   "source": [
    "Quiz 12"
   ]
  },
  {
   "cell_type": "code",
   "execution_count": 11,
   "id": "4b9d319b",
   "metadata": {},
   "outputs": [],
   "source": [
    "Vx = [0,1,2,3,4]\n",
    "Ex = [(0,1), (0,2), (0,4), (1,2), (2,3), (2,4), (3,4)]"
   ]
  },
  {
   "cell_type": "code",
   "execution_count": 12,
   "id": "fcd08f1b",
   "metadata": {},
   "outputs": [],
   "source": [
    "import graph_problem\n",
    "\n",
    "graph_instance = graph_problem.undi_graph(Vx,Ex)"
   ]
  },
  {
   "cell_type": "code",
   "execution_count": 16,
   "id": "58e6ab4f",
   "metadata": {},
   "outputs": [
    {
     "name": "stdout",
     "output_type": "stream",
     "text": [
      "4\n",
      "3\n",
      "2\n",
      "1\n",
      "0\n"
     ]
    }
   ],
   "source": [
    "#quiz 12-2\n",
    "\n",
    "graph_instance.DFT()"
   ]
  },
  {
   "cell_type": "code",
   "execution_count": 15,
   "id": "0febd676",
   "metadata": {},
   "outputs": [
    {
     "name": "stdout",
     "output_type": "stream",
     "text": [
      "0\n",
      "1\n",
      "2\n",
      "4\n",
      "3\n"
     ]
    }
   ],
   "source": [
    "#quiz 12-3\n",
    "\n",
    "graph_instance.BFT()"
   ]
  }
 ],
 "metadata": {
  "kernelspec": {
   "display_name": "Python 3 (ipykernel)",
   "language": "python",
   "name": "python3"
  },
  "language_info": {
   "codemirror_mode": {
    "name": "ipython",
    "version": 3
   },
   "file_extension": ".py",
   "mimetype": "text/x-python",
   "name": "python",
   "nbconvert_exporter": "python",
   "pygments_lexer": "ipython3",
   "version": "3.9.15"
  }
 },
 "nbformat": 4,
 "nbformat_minor": 5
}
