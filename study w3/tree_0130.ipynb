{
 "cells": [
  {
   "cell_type": "code",
   "execution_count": 2,
   "id": "6f23ec8b",
   "metadata": {},
   "outputs": [],
   "source": [
    "class TreeNode():\n",
    "    def __init__(self, x:int , k: int) -> None:\n",
    "        self.val = x\n",
    "        self.arity = k\n",
    "        self.child = [None]*k"
   ]
  },
  {
   "cell_type": "code",
   "execution_count": 3,
   "id": "c28b2283",
   "metadata": {},
   "outputs": [],
   "source": [
    "class Tree():\n",
    "    \n",
    "    def __init__(self, root: TreeNode) -> None:\n",
    "        self.root = root\n",
    "    \n",
    "    def visit(self, node: TreeNode):\n",
    "        print(node.val)\n",
    "        \n",
    "    def BFT(self):\n",
    "        if self.root == None:\n",
    "            return\n",
    "        \n",
    "        q = [self.root]\n",
    "        \n",
    "        while q:\n",
    "            curNode = q.pop(0)\n",
    "            \n",
    "            self.visit(curNode)\n",
    "        \n",
    "            for childNode in curNode.child:\n",
    "                if childNode:\n",
    "                    q.append(childNode)\n",
    "    \n",
    "    def __DFT_preorderHelp(self, curNode: TreeNode):\n",
    "        if curNode == None:\n",
    "            return\n",
    "        \n",
    "        self.visit(curNode)\n",
    "        \n",
    "        for childNode in curNode.child:\n",
    "            self.__DFT_preorderHelp(childNode)\n",
    "            \n",
    "        \n",
    "    def DFT_preorder(self):\n",
    "        self.__DFT_preorderHelp(self.root)\n",
    "        \n",
    "    \n",
    "    def __DFT_inorderHelp(self, curNode: TreeNode):\n",
    "        if curNode == None:\n",
    "            return\n",
    "        \n",
    "        for i in range(len(curNode.child)):\n",
    "            if i == 1:\n",
    "                self.visit(curNode)\n",
    "            \n",
    "            self.__DFT_inorderHelp(curNode.child[i])\n",
    "        \n",
    "    def DFT_inorder(self):\n",
    "        self.__DFT_inorderHelp(self.root)\n",
    "        \n",
    "    \n",
    "    def __DFT_postorderHelp(self, curNode: TreeNode):\n",
    "        if curNode == None:\n",
    "            return\n",
    "        \n",
    "        for i in range(len(curNode.child)):\n",
    "            self.__DFT_postorderHelp(curNode.child[i])\n",
    "        \n",
    "        self.visit(curNode)\n",
    "    \n",
    "    def DFT_postorder(self):\n",
    "        self.__DFT_postorderHelp(self.root)"
   ]
  },
  {
   "cell_type": "code",
   "execution_count": null,
   "id": "af78db64",
   "metadata": {},
   "outputs": [],
   "source": []
  }
 ],
 "metadata": {
  "kernelspec": {
   "display_name": "Python 3 (ipykernel)",
   "language": "python",
   "name": "python3"
  },
  "language_info": {
   "codemirror_mode": {
    "name": "ipython",
    "version": 3
   },
   "file_extension": ".py",
   "mimetype": "text/x-python",
   "name": "python",
   "nbconvert_exporter": "python",
   "pygments_lexer": "ipython3",
   "version": "3.9.15"
  }
 },
 "nbformat": 4,
 "nbformat_minor": 5
}
