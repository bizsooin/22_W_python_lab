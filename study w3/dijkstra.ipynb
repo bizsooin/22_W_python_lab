{
 "cells": [
  {
   "cell_type": "code",
   "execution_count": 2,
   "id": "85d62f54",
   "metadata": {},
   "outputs": [],
   "source": [
    "V = [0,1,2,3,4,5,6,7,8,9]\n",
    "inf = 100\n",
    "\n",
    "dist_x = [[0,3,2,4,inf,inf,inf,inf,inf,inf],\n",
    "          [3,0,inf,inf,5,inf,inf,inf,inf,inf],\n",
    "          [2,inf,0,2,8,3,6,inf,inf,inf],\n",
    "          [inf,inf,2,0,inf,inf,4,inf,inf,inf],\n",
    "          [inf,5,8,inf,0,inf,inf,2,inf,inf],\n",
    "          [inf,inf,3,inf,inf,0,inf,1,4,inf],\n",
    "          [inf,inf,6,4,inf,inf,0,inf,4,inf],\n",
    "          [inf,inf,inf,inf,2,1,inf,0,inf,5],\n",
    "          [inf,inf,inf,inf,inf,4,4,inf,0,3],\n",
    "          [inf,inf,inf,inf,inf,inf,inf,5,3,0]]"
   ]
  },
  {
   "cell_type": "code",
   "execution_count": 3,
   "id": "ab26a3b8",
   "metadata": {},
   "outputs": [],
   "source": [
    "class Graph():\n",
    "    \n",
    "    def __init__(self, V:list, dist: list) -> None:\n",
    "        self.V = V\n",
    "        self.graph = dist\n",
    "        \n",
    "    def printSolution(self, dist):\n",
    "        print(\"Vertex \\t Distance from Source\")\n",
    "        for node in self.V:\n",
    "            print(node, \"\\t\\t\", dist[node])    \n",
    "        \n",
    "    def minDistance(self, dist, sptSet):\n",
    "        \n",
    "        min_dist = 1000\n",
    "        \n",
    "        for v in self.V:\n",
    "            if dist[v] < min_dist and sptSet[v] == False:\n",
    "                min_dist = dist[v]\n",
    "                min_index = v\n",
    " \n",
    "        return min_index\n",
    "\n",
    "\n",
    "    def dijkstra(self, start):\n",
    "\n",
    "        dist = [100] * len(self.V)\n",
    "        visited = [False] * len(self.V)\n",
    "        dist[start] = 0\n",
    "        \n",
    "        for edge in self.V:\n",
    "            \n",
    "            current = self.minDistance(dist, visited)\n",
    "            visited[current] = True\n",
    "        \n",
    "            for v in self.V:\n",
    "                if (self.graph[current][v] > 0 and visited[v] == False and dist[v] > dist[current] + self.graph[current][v]):\n",
    "                    dist[v] = dist[current] + self.graph[current][v]\n",
    "                \n",
    "        self.printSolution(dist)\n",
    "            \n",
    "         "
   ]
  },
  {
   "cell_type": "code",
   "execution_count": 4,
   "id": "b43c1176",
   "metadata": {},
   "outputs": [],
   "source": [
    "dijkstra_pract = Graph(V, dist_x)"
   ]
  },
  {
   "cell_type": "code",
   "execution_count": 5,
   "id": "36125151",
   "metadata": {},
   "outputs": [
    {
     "name": "stdout",
     "output_type": "stream",
     "text": [
      "Vertex \t Distance from Source\n",
      "0 \t\t 0\n",
      "1 \t\t 3\n",
      "2 \t\t 2\n",
      "3 \t\t 4\n",
      "4 \t\t 8\n",
      "5 \t\t 5\n",
      "6 \t\t 8\n",
      "7 \t\t 6\n",
      "8 \t\t 9\n",
      "9 \t\t 11\n"
     ]
    }
   ],
   "source": [
    "dijkstra_pract.dijkstra(0)"
   ]
  }
 ],
 "metadata": {
  "kernelspec": {
   "display_name": "Python 3 (ipykernel)",
   "language": "python",
   "name": "python3"
  },
  "language_info": {
   "codemirror_mode": {
    "name": "ipython",
    "version": 3
   },
   "file_extension": ".py",
   "mimetype": "text/x-python",
   "name": "python",
   "nbconvert_exporter": "python",
   "pygments_lexer": "ipython3",
   "version": "3.9.15"
  }
 },
 "nbformat": 4,
 "nbformat_minor": 5
}
