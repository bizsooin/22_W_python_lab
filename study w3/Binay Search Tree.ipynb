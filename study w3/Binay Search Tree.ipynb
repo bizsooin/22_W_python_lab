{
 "cells": [
  {
   "cell_type": "code",
   "execution_count": 8,
   "id": "b4c13e7c",
   "metadata": {},
   "outputs": [],
   "source": [
    "class TreeNode():\n",
    "    def __init__(self, x :int):\n",
    "        self.val = x\n",
    "        self.left = None \n",
    "        self.right = None"
   ]
  },
  {
   "cell_type": "code",
   "execution_count": 41,
   "id": "d3c50ca1",
   "metadata": {},
   "outputs": [],
   "source": [
    "class BST():\n",
    "    def __init__(self, root: TreeNode):\n",
    "        self.root = root\n",
    "    \n",
    "    def __searchHelp(self, curNode: TreeNode, x: int) -> TreeNode:\n",
    "        if not curNode:\n",
    "            return None\n",
    "        \n",
    "        if x == curNode.val:\n",
    "            return curNode\n",
    "        \n",
    "        elif x < curNode.val:\n",
    "            return self.__searchHelp(curNode.left, x)\n",
    "        \n",
    "        else:\n",
    "            return self.__searchHelp(curNode.right, x)\n",
    "    \n",
    "    \n",
    "    def search(self, x :int):\n",
    "        return self.__searchHelp(self.root, x)\n",
    "    \n",
    "    \n",
    "    def __insertHelp(self, curNode: TreeNode, x: int) -> TreeNode:\n",
    "        if not curNode:\n",
    "            return TreeNode(x)\n",
    "        \n",
    "        if x < curNode.val:\n",
    "            curNode.left = self.__insertHelp(curNode.left, x)\n",
    "        \n",
    "        elif x > curNode.val:\n",
    "             curNode.right = self.__insertHelp(curNode.right, x)\n",
    "        \n",
    "        return curNode\n",
    "    \n",
    "    \n",
    "    def __findMax(self, curNode: TreeNode) -> int:\n",
    "        \n",
    "        if not curNode.right:\n",
    "            return curNode.val\n",
    "        \n",
    "        else:\n",
    "            return self.__findMax(curNode.right)\n",
    "    \n",
    "    \n",
    "    \n",
    "    def insert(self, x :int):\n",
    "        return self.__insertHelp(self.root, x)\n",
    "    \n",
    "    \n",
    "    def __deleteHelp(self, curNode: TreeNode, x: int) -> TreeNode:\n",
    "        \n",
    "        if not curNode:\n",
    "            return None\n",
    "        \n",
    "        if x < curNode.val:\n",
    "            curNode.left = self.__deleteHelp(curNode.left, x)\n",
    "        \n",
    "        elif x > curNode.val:\n",
    "            curNode.right = self.__deleteHelp(curNode.right, x)\n",
    "        \n",
    "        else:\n",
    "            '''\n",
    "            # No child\n",
    "            if curNode.left == None and curNode.right == None:             \n",
    "                return None\n",
    "            \n",
    "            #one child\n",
    "            elif curNode.left == None and curNode.right:\n",
    "                return curNode.right\n",
    "            \n",
    "            elif curNode.left and curNode.right == None:\n",
    "                return curNode.left\n",
    "            \n",
    "            '''\n",
    "            \n",
    "            if curNode.left == None:\n",
    "                return curNode.right\n",
    "            \n",
    "            elif curNode.right == None:\n",
    "                return curNode.left\n",
    "            \n",
    "        \n",
    "            else:\n",
    "                leftLargest = self.__findMax(curNode.left)\n",
    "                curNode.left = self.__deleteHelp(curNode.left, leftLargest)\n",
    "                curNode.val = leftLargest\n",
    "            \n",
    "        return curNode\n",
    "            \n",
    "            \n",
    "    \n",
    "    \n",
    "    def delete(self, x: int) -> None:\n",
    "        self.root = self.__deleteHelp(self.root, x)"
   ]
  },
  {
   "cell_type": "code",
   "execution_count": 52,
   "id": "468fffe3",
   "metadata": {},
   "outputs": [],
   "source": [
    "tree1 = TreeNode(1)\n",
    "tree2 = TreeNode(2)\n",
    "tree3 = TreeNode(3)\n",
    "tree4 = TreeNode(4)\n",
    "tree5 = TreeNode(5)\n",
    "tree6 = TreeNode(6)\n",
    "tree7 = TreeNode(7)"
   ]
  },
  {
   "cell_type": "code",
   "execution_count": 53,
   "id": "bf93d309",
   "metadata": {},
   "outputs": [],
   "source": [
    "tree4.left = tree2\n",
    "tree4.right = tree6\n",
    "\n",
    "tree2.left = tree1\n",
    "tree2.right = tree3\n",
    "\n",
    "tree6.left = tree5\n",
    "tree6.right = tree7\n",
    "\n",
    "myTree = BST(tree4)"
   ]
  },
  {
   "cell_type": "code",
   "execution_count": 54,
   "id": "48fa87d0",
   "metadata": {},
   "outputs": [
    {
     "name": "stdout",
     "output_type": "stream",
     "text": [
      "<__main__.TreeNode object at 0x000001E79A332610> 6\n"
     ]
    }
   ],
   "source": [
    "node = myTree.search(6)\n",
    "\n",
    "if node == None:\n",
    "    print(node)\n",
    "\n",
    "else:\n",
    "    print(node, node.val)"
   ]
  },
  {
   "cell_type": "code",
   "execution_count": 55,
   "id": "fc68f7eb",
   "metadata": {},
   "outputs": [
    {
     "name": "stdout",
     "output_type": "stream",
     "text": [
      "<__main__.TreeNode object at 0x000001E79A333220> 8\n",
      "8\n",
      "None\n"
     ]
    }
   ],
   "source": [
    "myTree.insert(8)\n",
    "\n",
    "node = myTree.search(8)\n",
    "\n",
    "if node == None:\n",
    "    print(node)\n",
    "\n",
    "else:\n",
    "    print(node, node.val)\n",
    "    \n",
    "print(tree7.right.val)\n",
    "print(tree7.left)"
   ]
  },
  {
   "cell_type": "code",
   "execution_count": 56,
   "id": "5fdcb2d1",
   "metadata": {},
   "outputs": [
    {
     "name": "stdout",
     "output_type": "stream",
     "text": [
      "4\n",
      "3\n"
     ]
    }
   ],
   "source": [
    "print(myTree.root.val)\n",
    "myTree.delete(4)\n",
    "print(myTree.root.val)"
   ]
  },
  {
   "cell_type": "code",
   "execution_count": 57,
   "id": "397dadf2",
   "metadata": {},
   "outputs": [
    {
     "name": "stdout",
     "output_type": "stream",
     "text": [
      "None\n"
     ]
    }
   ],
   "source": [
    "node = myTree.search(4)\n",
    "\n",
    "if node == None:\n",
    "    print(node)\n",
    "\n",
    "else:\n",
    "    print(node, node.val)"
   ]
  },
  {
   "cell_type": "code",
   "execution_count": 58,
   "id": "904f5267",
   "metadata": {},
   "outputs": [
    {
     "name": "stdout",
     "output_type": "stream",
     "text": [
      "2\n",
      "6\n"
     ]
    }
   ],
   "source": [
    "print(myTree.root.left.val)\n",
    "print(myTree.root.right.val)"
   ]
  }
 ],
 "metadata": {
  "kernelspec": {
   "display_name": "Python 3 (ipykernel)",
   "language": "python",
   "name": "python3"
  },
  "language_info": {
   "codemirror_mode": {
    "name": "ipython",
    "version": 3
   },
   "file_extension": ".py",
   "mimetype": "text/x-python",
   "name": "python",
   "nbconvert_exporter": "python",
   "pygments_lexer": "ipython3",
   "version": "3.9.15"
  }
 },
 "nbformat": 4,
 "nbformat_minor": 5
}
